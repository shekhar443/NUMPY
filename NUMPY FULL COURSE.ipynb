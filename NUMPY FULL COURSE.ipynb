{
 "cells": [
  {
   "cell_type": "markdown",
   "id": "9bb277ca",
   "metadata": {},
   "source": [
    "# 1.NUMPY \n",
    "* pip install numpy\n",
    "* pip uninstall numpy\n",
    "* import numpy\n",
    "* numpy.__version__\n"
   ]
  },
  {
   "cell_type": "code",
   "execution_count": 5,
   "id": "8dece281",
   "metadata": {},
   "outputs": [
    {
     "data": {
      "text/plain": [
       "'1.21.5'"
      ]
     },
     "execution_count": 5,
     "metadata": {},
     "output_type": "execute_result"
    }
   ],
   "source": [
    "import numpy as np\n",
    "numpy.__version__"
   ]
  },
  {
   "cell_type": "markdown",
   "id": "8d7c5061",
   "metadata": {},
   "source": [
    "# 2.creating nd array"
   ]
  },
  {
   "cell_type": "code",
   "execution_count": 195,
   "id": "a2a72386",
   "metadata": {},
   "outputs": [
    {
     "name": "stdout",
     "output_type": "stream",
     "text": [
      "26\n"
     ]
    },
    {
     "data": {
      "text/plain": [
       "numpy.ndarray"
      ]
     },
     "execution_count": 195,
     "metadata": {},
     "output_type": "execute_result"
    }
   ],
   "source": [
    "z=np.array(26)\n",
    "a=np.array([1,2,3,4,5])\n",
    "b=np.array([[1,2,3,4,5],[4,5,6,7,8]])\n",
    "c=np.array([[[2,17,14], [66,45, 78]], [[89,88, 92], [55,60, 76]],[[76,89,33],[12,20,18]]])\n",
    "\n",
    "a\n",
    "\n",
    "a[0]\n",
    "\n",
    "a[3]\n",
    "\n",
    "print(z)\n",
    "\n",
    "b[0][1]\n",
    "\n",
    "a\n",
    "\n",
    "b\n",
    "\n",
    "c\n",
    "\n",
    "c[0][1][1]\n",
    "\n",
    "a.ndim\n",
    "\n",
    "b.ndim\n",
    "\n",
    "c.ndim\n",
    "\n",
    "c[1][1][2]\n",
    "\n",
    "type(a)\n",
    "type(b)\n",
    "type(c)"
   ]
  },
  {
   "cell_type": "code",
   "execution_count": null,
   "id": "e304f896",
   "metadata": {},
   "outputs": [],
   "source": []
  },
  {
   "cell_type": "markdown",
   "id": "c916fa8a",
   "metadata": {},
   "source": [
    "# 3.Array with existing data\n",
    "    1.asarray(input,dtype,order)\n",
    "            a.input----list,tuple\n",
    "            b.dtype---- int ,str,bytes,float\n",
    "            c.order----row major order 'C' column major order 'F'\n",
    "    2.frombuffer(buffer,dtype,count,offset)\n",
    "            a.buffer----list,tuple\n",
    "            b.dtype---- int ,str,bytes,float\n",
    "            c.count----length of array\n",
    "            d.offset----position\n",
    "    3.fromiter(iterable,dtype,count)\n",
    "            a.iterable----list,tuple\n",
    "            b.dtype---- int ,str,bytes,float\n",
    "            c.count----length of array"
   ]
  },
  {
   "cell_type": "code",
   "execution_count": 196,
   "id": "2a65d631",
   "metadata": {},
   "outputs": [],
   "source": [
    "c=np.array([[[2,17,14], [66,45, 78]], [[89,88, 92], [55,60, 76]],[[76,89,33],[12,20,18]]])"
   ]
  },
  {
   "cell_type": "code",
   "execution_count": 204,
   "id": "1dcfd5af",
   "metadata": {
    "scrolled": false
   },
   "outputs": [],
   "source": [
    "u=np.asarray(c,dtype=\"float\",order=\"F\")\n",
    "\n",
    "v=np.asarray(c,dtype=\"int\",order=\"F\")\n",
    "\n",
    "w=np.asarray(c,dtype=\"float\",order=\"C\")\n",
    "\n",
    "x=np.asarray(c,dtype=\"int\",order=\"C\")"
   ]
  },
  {
   "cell_type": "code",
   "execution_count": 205,
   "id": "465fc520",
   "metadata": {},
   "outputs": [
    {
     "data": {
      "text/plain": [
       "array([[[ 2., 17., 14.],\n",
       "        [66., 45., 78.]],\n",
       "\n",
       "       [[89., 88., 92.],\n",
       "        [55., 60., 76.]],\n",
       "\n",
       "       [[76., 89., 33.],\n",
       "        [12., 20., 18.]]])"
      ]
     },
     "execution_count": 205,
     "metadata": {},
     "output_type": "execute_result"
    }
   ],
   "source": [
    "u"
   ]
  },
  {
   "cell_type": "code",
   "execution_count": 206,
   "id": "ebacfbe6",
   "metadata": {},
   "outputs": [
    {
     "name": "stdout",
     "output_type": "stream",
     "text": [
      "2.0\n",
      "89.0\n",
      "76.0\n",
      "66.0\n",
      "55.0\n",
      "12.0\n",
      "17.0\n",
      "88.0\n",
      "89.0\n",
      "45.0\n",
      "60.0\n",
      "20.0\n",
      "14.0\n",
      "92.0\n",
      "33.0\n",
      "78.0\n",
      "76.0\n",
      "18.0\n"
     ]
    }
   ],
   "source": [
    "for i in np.nditer(u):\n",
    "    print(i)"
   ]
  },
  {
   "cell_type": "code",
   "execution_count": 207,
   "id": "33590a64",
   "metadata": {},
   "outputs": [
    {
     "data": {
      "text/plain": [
       "array([[[ 2, 17, 14],\n",
       "        [66, 45, 78]],\n",
       "\n",
       "       [[89, 88, 92],\n",
       "        [55, 60, 76]],\n",
       "\n",
       "       [[76, 89, 33],\n",
       "        [12, 20, 18]]])"
      ]
     },
     "execution_count": 207,
     "metadata": {},
     "output_type": "execute_result"
    }
   ],
   "source": [
    "v"
   ]
  },
  {
   "cell_type": "code",
   "execution_count": 208,
   "id": "faa3ed37",
   "metadata": {},
   "outputs": [
    {
     "name": "stdout",
     "output_type": "stream",
     "text": [
      "2\n",
      "89\n",
      "76\n",
      "66\n",
      "55\n",
      "12\n",
      "17\n",
      "88\n",
      "89\n",
      "45\n",
      "60\n",
      "20\n",
      "14\n",
      "92\n",
      "33\n",
      "78\n",
      "76\n",
      "18\n"
     ]
    }
   ],
   "source": [
    "for i in np.nditer(v):\n",
    "    print(i)"
   ]
  },
  {
   "cell_type": "code",
   "execution_count": null,
   "id": "41670b97",
   "metadata": {},
   "outputs": [],
   "source": []
  },
  {
   "cell_type": "code",
   "execution_count": 209,
   "id": "aac8e717",
   "metadata": {},
   "outputs": [
    {
     "data": {
      "text/plain": [
       "array([[[ 2., 17., 14.],\n",
       "        [66., 45., 78.]],\n",
       "\n",
       "       [[89., 88., 92.],\n",
       "        [55., 60., 76.]],\n",
       "\n",
       "       [[76., 89., 33.],\n",
       "        [12., 20., 18.]]])"
      ]
     },
     "execution_count": 209,
     "metadata": {},
     "output_type": "execute_result"
    }
   ],
   "source": [
    "w"
   ]
  },
  {
   "cell_type": "code",
   "execution_count": 211,
   "id": "dffe39e8",
   "metadata": {},
   "outputs": [
    {
     "name": "stdout",
     "output_type": "stream",
     "text": [
      "2.0\n",
      "17.0\n",
      "14.0\n",
      "66.0\n",
      "45.0\n",
      "78.0\n",
      "89.0\n",
      "88.0\n",
      "92.0\n",
      "55.0\n",
      "60.0\n",
      "76.0\n",
      "76.0\n",
      "89.0\n",
      "33.0\n",
      "12.0\n",
      "20.0\n",
      "18.0\n"
     ]
    }
   ],
   "source": [
    "for i in np.nditer(w):\n",
    "    print(i)"
   ]
  },
  {
   "cell_type": "code",
   "execution_count": 212,
   "id": "ff1513ef",
   "metadata": {},
   "outputs": [
    {
     "data": {
      "text/plain": [
       "array([[[ 2, 17, 14],\n",
       "        [66, 45, 78]],\n",
       "\n",
       "       [[89, 88, 92],\n",
       "        [55, 60, 76]],\n",
       "\n",
       "       [[76, 89, 33],\n",
       "        [12, 20, 18]]])"
      ]
     },
     "execution_count": 212,
     "metadata": {},
     "output_type": "execute_result"
    }
   ],
   "source": [
    "x"
   ]
  },
  {
   "cell_type": "code",
   "execution_count": 214,
   "id": "d38a7661",
   "metadata": {},
   "outputs": [
    {
     "name": "stdout",
     "output_type": "stream",
     "text": [
      "2\n",
      "17\n",
      "14\n",
      "66\n",
      "45\n",
      "78\n",
      "89\n",
      "88\n",
      "92\n",
      "55\n",
      "60\n",
      "76\n",
      "76\n",
      "89\n",
      "33\n",
      "12\n",
      "20\n",
      "18\n"
     ]
    }
   ],
   "source": [
    "for i in np.nditer(x):\n",
    "    print(i)"
   ]
  },
  {
   "cell_type": "code",
   "execution_count": 215,
   "id": "a51b09ed",
   "metadata": {},
   "outputs": [],
   "source": [
    "s=b\"hai this is shekhar\""
   ]
  },
  {
   "cell_type": "code",
   "execution_count": 217,
   "id": "07f2c63a",
   "metadata": {},
   "outputs": [],
   "source": [
    "z=np.frombuffer(s,dtype=\"S1\",count=10,offset=0)"
   ]
  },
  {
   "cell_type": "code",
   "execution_count": 218,
   "id": "1b592aef",
   "metadata": {},
   "outputs": [
    {
     "data": {
      "text/plain": [
       "array([b'h', b'a', b'i', b' ', b't', b'h', b'i', b's', b' ', b'i'],\n",
       "      dtype='|S1')"
      ]
     },
     "execution_count": 218,
     "metadata": {},
     "output_type": "execute_result"
    }
   ],
   "source": [
    "z"
   ]
  },
  {
   "cell_type": "code",
   "execution_count": 220,
   "id": "d02b7447",
   "metadata": {},
   "outputs": [],
   "source": [
    "y=np.fromiter(s,dtype=\"S1\",count=11)"
   ]
  },
  {
   "cell_type": "code",
   "execution_count": 221,
   "id": "5d6d3b28",
   "metadata": {},
   "outputs": [
    {
     "data": {
      "text/plain": [
       "array([b'1', b'9', b'1', b'3', b'1', b'1', b'1', b'1', b'3', b'1', b'1'],\n",
       "      dtype='|S1')"
      ]
     },
     "execution_count": 221,
     "metadata": {},
     "output_type": "execute_result"
    }
   ],
   "source": [
    "y"
   ]
  },
  {
   "cell_type": "code",
   "execution_count": 222,
   "id": "7b605617",
   "metadata": {},
   "outputs": [],
   "source": [
    "list=[5,6,4,8,9,4,7,8,9,3]"
   ]
  },
  {
   "cell_type": "code",
   "execution_count": 223,
   "id": "20ca2979",
   "metadata": {},
   "outputs": [
    {
     "data": {
      "text/plain": [
       "[5, 6, 4, 8, 9, 4, 7, 8, 9, 3]"
      ]
     },
     "execution_count": 223,
     "metadata": {},
     "output_type": "execute_result"
    }
   ],
   "source": [
    "list"
   ]
  },
  {
   "cell_type": "code",
   "execution_count": 226,
   "id": "d9e4eb2d",
   "metadata": {},
   "outputs": [
    {
     "data": {
      "text/plain": [
       "array([5., 6., 4., 8., 9., 4., 7.])"
      ]
     },
     "execution_count": 226,
     "metadata": {},
     "output_type": "execute_result"
    }
   ],
   "source": [
    "np.fromiter(list,dtype=\"float\",count=7)"
   ]
  },
  {
   "cell_type": "markdown",
   "id": "1235cb8f",
   "metadata": {},
   "source": [
    "# 4.Range\n",
    "    1.np.arange(startindex,endindex,dtype)\n",
    "    2.np.linespace(start index,start index, num,endpoint,retstep,dtype)\n",
    "    3.np.logspace(start index,stop index,num,end point,base,dtype)"
   ]
  },
  {
   "cell_type": "code",
   "execution_count": 227,
   "id": "a46cc888",
   "metadata": {},
   "outputs": [
    {
     "data": {
      "text/plain": [
       "array([0., 1., 2., 3., 4., 5., 6., 7., 8., 9.])"
      ]
     },
     "execution_count": 227,
     "metadata": {},
     "output_type": "execute_result"
    }
   ],
   "source": [
    "A=np.arange(0,10,1,dtype=\"float\")\n",
    "A"
   ]
  },
  {
   "cell_type": "code",
   "execution_count": 228,
   "id": "64d59353",
   "metadata": {},
   "outputs": [
    {
     "data": {
      "text/plain": [
       "array([0, 1, 2, 3, 4, 5, 6, 7, 8, 9])"
      ]
     },
     "execution_count": 228,
     "metadata": {},
     "output_type": "execute_result"
    }
   ],
   "source": [
    "np.arange(0,10,1,dtype=\"int\")\n"
   ]
  },
  {
   "cell_type": "code",
   "execution_count": 230,
   "id": "f8ad88bb",
   "metadata": {},
   "outputs": [
    {
     "data": {
      "text/plain": [
       "array([9])"
      ]
     },
     "execution_count": 230,
     "metadata": {},
     "output_type": "execute_result"
    }
   ],
   "source": [
    "A=np.arange(9,10,1,dtype=\"int\")\n",
    "A"
   ]
  },
  {
   "cell_type": "code",
   "execution_count": 249,
   "id": "18a5aa2a",
   "metadata": {},
   "outputs": [
    {
     "data": {
      "text/plain": [
       "(array([ 1,  4,  7, 10]), 3.0)"
      ]
     },
     "execution_count": 249,
     "metadata": {},
     "output_type": "execute_result"
    }
   ],
   "source": [
    "np.linspace(1,10,4,endpoint=True,retstep=True,dtype=\"int\")"
   ]
  },
  {
   "cell_type": "code",
   "execution_count": 239,
   "id": "8f7a9eb9",
   "metadata": {},
   "outputs": [],
   "source": [
    "B=np.linspace(1,10,3,endpoint=False,retstep=True,dtype=\"int\")"
   ]
  },
  {
   "cell_type": "code",
   "execution_count": 240,
   "id": "574ba9a2",
   "metadata": {},
   "outputs": [
    {
     "data": {
      "text/plain": [
       "(array([1, 4, 7]), 3.0)"
      ]
     },
     "execution_count": 240,
     "metadata": {},
     "output_type": "execute_result"
    }
   ],
   "source": [
    "B"
   ]
  },
  {
   "cell_type": "code",
   "execution_count": 257,
   "id": "c43e0e3c",
   "metadata": {},
   "outputs": [
    {
     "data": {
      "text/plain": [
       "array([   1,   32, 1024])"
      ]
     },
     "execution_count": 257,
     "metadata": {},
     "output_type": "execute_result"
    }
   ],
   "source": [
    "np.logspace(0,10,3,endpoint=True,base=2,dtype=\"int\")"
   ]
  },
  {
   "cell_type": "code",
   "execution_count": 258,
   "id": "e8b25a10",
   "metadata": {},
   "outputs": [
    {
     "data": {
      "text/plain": [
       "array([   1,    1,    1,    1,    1,    2,    2,    2,    3,    3,    4,\n",
       "          4,    5,    6,    7,    8,    9,   11,   12,   14,   16,   19,\n",
       "         22,   25,   29,   34,   39,   45,   52,   60,   69,   80,   92,\n",
       "        106,  122,  141,  162,  187,  216,  248,  286,  330,  380,  438,\n",
       "        504,  581,  669,  771,  888, 1024])"
      ]
     },
     "execution_count": 258,
     "metadata": {},
     "output_type": "execute_result"
    }
   ],
   "source": [
    "np.logspace(0,10,endpoint=True,base=2,dtype=\"int\")"
   ]
  },
  {
   "cell_type": "markdown",
   "id": "0023057c",
   "metadata": {},
   "source": [
    "# 5.Initializing arrays\n",
    "    1.np.reshape(a,(x,y))\n",
    "    2.np.zeros((2,3),dtype=\"xxxxxx\")\n",
    "    3.np.ones((shape),dtype)\n",
    "    4.np.full((shape),value)\n",
    "    5.np.eye((shape),dtye)\n",
    "    6."
   ]
  },
  {
   "cell_type": "code",
   "execution_count": 260,
   "id": "5c19a984",
   "metadata": {},
   "outputs": [
    {
     "data": {
      "text/plain": [
       "array([[5, 6],\n",
       "       [3, 4]])"
      ]
     },
     "execution_count": 260,
     "metadata": {},
     "output_type": "execute_result"
    }
   ],
   "source": [
    "ll=[5,6,3,4]\n",
    "np.reshape(ll,(2,2))"
   ]
  },
  {
   "cell_type": "code",
   "execution_count": 261,
   "id": "67241b41",
   "metadata": {},
   "outputs": [
    {
     "data": {
      "text/plain": [
       "array([[5],\n",
       "       [6],\n",
       "       [3],\n",
       "       [4]])"
      ]
     },
     "execution_count": 261,
     "metadata": {},
     "output_type": "execute_result"
    }
   ],
   "source": [
    "np.reshape(ll,(4,1))"
   ]
  },
  {
   "cell_type": "code",
   "execution_count": 262,
   "id": "a14ea516",
   "metadata": {},
   "outputs": [
    {
     "data": {
      "text/plain": [
       "array([[5, 6, 3, 4]])"
      ]
     },
     "execution_count": 262,
     "metadata": {},
     "output_type": "execute_result"
    }
   ],
   "source": [
    "np.reshape(ll,(1,4))"
   ]
  },
  {
   "cell_type": "code",
   "execution_count": 264,
   "id": "b83cf781",
   "metadata": {},
   "outputs": [
    {
     "data": {
      "text/plain": [
       "array([[0, 0],\n",
       "       [0, 0],\n",
       "       [0, 0]])"
      ]
     },
     "execution_count": 264,
     "metadata": {},
     "output_type": "execute_result"
    }
   ],
   "source": [
    "np.zeros((3,2),dtype=\"int\")"
   ]
  },
  {
   "cell_type": "code",
   "execution_count": 265,
   "id": "cade36bf",
   "metadata": {},
   "outputs": [
    {
     "data": {
      "text/plain": [
       "array([[0, 0, 0],\n",
       "       [0, 0, 0],\n",
       "       [0, 0, 0]])"
      ]
     },
     "execution_count": 265,
     "metadata": {},
     "output_type": "execute_result"
    }
   ],
   "source": [
    "np.zeros((3,3),dtype=\"int\")"
   ]
  },
  {
   "cell_type": "code",
   "execution_count": 266,
   "id": "c3fdd528",
   "metadata": {},
   "outputs": [
    {
     "data": {
      "text/plain": [
       "array([[1, 1],\n",
       "       [1, 1],\n",
       "       [1, 1]])"
      ]
     },
     "execution_count": 266,
     "metadata": {},
     "output_type": "execute_result"
    }
   ],
   "source": [
    "np.ones((3,2),dtype=\"int\")"
   ]
  },
  {
   "cell_type": "code",
   "execution_count": 267,
   "id": "064d46fc",
   "metadata": {},
   "outputs": [
    {
     "data": {
      "text/plain": [
       "array([[1., 1., 1., 1.],\n",
       "       [1., 1., 1., 1.],\n",
       "       [1., 1., 1., 1.],\n",
       "       [1., 1., 1., 1.]])"
      ]
     },
     "execution_count": 267,
     "metadata": {},
     "output_type": "execute_result"
    }
   ],
   "source": [
    "np.ones((4,4),dtype=\"float\")"
   ]
  },
  {
   "cell_type": "code",
   "execution_count": 268,
   "id": "ddaf3aa7",
   "metadata": {},
   "outputs": [
    {
     "data": {
      "text/plain": [
       "array([[4, 4, 4],\n",
       "       [4, 4, 4],\n",
       "       [4, 4, 4]])"
      ]
     },
     "execution_count": 268,
     "metadata": {},
     "output_type": "execute_result"
    }
   ],
   "source": [
    "np.full((3,3),4)"
   ]
  },
  {
   "cell_type": "code",
   "execution_count": 269,
   "id": "1403bffb",
   "metadata": {},
   "outputs": [
    {
     "data": {
      "text/plain": [
       "array([[6, 6, 6, 6],\n",
       "       [6, 6, 6, 6],\n",
       "       [6, 6, 6, 6]])"
      ]
     },
     "execution_count": 269,
     "metadata": {},
     "output_type": "execute_result"
    }
   ],
   "source": [
    "np.full((3,4),3*2)"
   ]
  },
  {
   "cell_type": "code",
   "execution_count": 274,
   "id": "1308e52c",
   "metadata": {},
   "outputs": [
    {
     "data": {
      "text/plain": [
       "array([[1, 0, 0],\n",
       "       [0, 1, 0],\n",
       "       [0, 0, 1]])"
      ]
     },
     "execution_count": 274,
     "metadata": {},
     "output_type": "execute_result"
    }
   ],
   "source": [
    "np.eye(3,dtype=\"int\")"
   ]
  },
  {
   "cell_type": "markdown",
   "id": "68ec60bf",
   "metadata": {},
   "source": [
    "# 6.7.Accessing and slicing elements from array\n",
    "    1.a[]\n",
    "    2.a[][]=a[x,y]\n",
    "    3.a[][][]=a[x,y,z]\n",
    "    4.a[-1]\n",
    "# 1D\n",
    "    5.[start index[0]:stop index:step index[1]]-------exclude stop index iiiiiiimmmmmmmmmmppppppppp\n",
    "    6.[::]---gives all the elements\n",
    "# 2D\n",
    "    7.[index,:]\n",
    "    8.[:,:]---[index1:inde2,sp index:ep in index\n",
    "# 3D\n",
    "    9.[0,1,1:4]\n",
    "    10.slicing operation for each dimention will be performed"
   ]
  },
  {
   "cell_type": "code",
   "execution_count": 275,
   "id": "84c252f3",
   "metadata": {},
   "outputs": [
    {
     "data": {
      "text/plain": [
       "array([1, 2, 3, 4, 5])"
      ]
     },
     "execution_count": 275,
     "metadata": {},
     "output_type": "execute_result"
    }
   ],
   "source": [
    "a"
   ]
  },
  {
   "cell_type": "code",
   "execution_count": 276,
   "id": "980c5b00",
   "metadata": {},
   "outputs": [
    {
     "data": {
      "text/plain": [
       "array([[1, 2, 3, 4, 5],\n",
       "       [4, 5, 6, 7, 8]])"
      ]
     },
     "execution_count": 276,
     "metadata": {},
     "output_type": "execute_result"
    }
   ],
   "source": [
    "b"
   ]
  },
  {
   "cell_type": "code",
   "execution_count": 277,
   "id": "7feebe42",
   "metadata": {},
   "outputs": [
    {
     "data": {
      "text/plain": [
       "array([[[ 2, 17, 14],\n",
       "        [66, 45, 78]],\n",
       "\n",
       "       [[89, 88, 92],\n",
       "        [55, 60, 76]],\n",
       "\n",
       "       [[76, 89, 33],\n",
       "        [12, 20, 18]]])"
      ]
     },
     "execution_count": 277,
     "metadata": {},
     "output_type": "execute_result"
    }
   ],
   "source": [
    "c"
   ]
  },
  {
   "cell_type": "code",
   "execution_count": 278,
   "id": "bc3fe266",
   "metadata": {},
   "outputs": [
    {
     "data": {
      "text/plain": [
       "1"
      ]
     },
     "execution_count": 278,
     "metadata": {},
     "output_type": "execute_result"
    }
   ],
   "source": [
    "a[0]"
   ]
  },
  {
   "cell_type": "code",
   "execution_count": 280,
   "id": "591aed8a",
   "metadata": {},
   "outputs": [
    {
     "data": {
      "text/plain": [
       "3"
      ]
     },
     "execution_count": 280,
     "metadata": {},
     "output_type": "execute_result"
    }
   ],
   "source": [
    "a[2]"
   ]
  },
  {
   "cell_type": "code",
   "execution_count": 281,
   "id": "1685fc68",
   "metadata": {},
   "outputs": [
    {
     "data": {
      "text/plain": [
       "array([1, 2, 3, 4, 5])"
      ]
     },
     "execution_count": 281,
     "metadata": {},
     "output_type": "execute_result"
    }
   ],
   "source": [
    "a[:]"
   ]
  },
  {
   "cell_type": "code",
   "execution_count": 283,
   "id": "abaafee0",
   "metadata": {},
   "outputs": [
    {
     "data": {
      "text/plain": [
       "5"
      ]
     },
     "execution_count": 283,
     "metadata": {},
     "output_type": "execute_result"
    }
   ],
   "source": [
    "a[-1]"
   ]
  },
  {
   "cell_type": "code",
   "execution_count": 285,
   "id": "5f2b5f57",
   "metadata": {},
   "outputs": [
    {
     "data": {
      "text/plain": [
       "array([2])"
      ]
     },
     "execution_count": 285,
     "metadata": {},
     "output_type": "execute_result"
    }
   ],
   "source": [
    "a[1:2]"
   ]
  },
  {
   "cell_type": "code",
   "execution_count": 286,
   "id": "a72bd290",
   "metadata": {},
   "outputs": [
    {
     "data": {
      "text/plain": [
       "array([2, 4])"
      ]
     },
     "execution_count": 286,
     "metadata": {},
     "output_type": "execute_result"
    }
   ],
   "source": [
    "a[1:5:2]"
   ]
  },
  {
   "cell_type": "code",
   "execution_count": 287,
   "id": "a3418e3f",
   "metadata": {},
   "outputs": [
    {
     "data": {
      "text/plain": [
       "array([5, 4, 3, 2, 1])"
      ]
     },
     "execution_count": 287,
     "metadata": {},
     "output_type": "execute_result"
    }
   ],
   "source": [
    "a[::-1]"
   ]
  },
  {
   "cell_type": "code",
   "execution_count": 289,
   "id": "50dba8ad",
   "metadata": {},
   "outputs": [
    {
     "data": {
      "text/plain": [
       "array([[1, 2, 3, 4, 5],\n",
       "       [4, 5, 6, 7, 8]])"
      ]
     },
     "execution_count": 289,
     "metadata": {},
     "output_type": "execute_result"
    }
   ],
   "source": [
    "b"
   ]
  },
  {
   "cell_type": "code",
   "execution_count": 290,
   "id": "9a30fdc9",
   "metadata": {},
   "outputs": [
    {
     "data": {
      "text/plain": [
       "5"
      ]
     },
     "execution_count": 290,
     "metadata": {},
     "output_type": "execute_result"
    }
   ],
   "source": [
    "b[1,1]"
   ]
  },
  {
   "cell_type": "code",
   "execution_count": 291,
   "id": "4eefa3f6",
   "metadata": {},
   "outputs": [
    {
     "data": {
      "text/plain": [
       "5"
      ]
     },
     "execution_count": 291,
     "metadata": {},
     "output_type": "execute_result"
    }
   ],
   "source": [
    "b[1][1]"
   ]
  },
  {
   "cell_type": "code",
   "execution_count": 293,
   "id": "a33b15fd",
   "metadata": {},
   "outputs": [
    {
     "data": {
      "text/plain": [
       "array([[3, 4]])"
      ]
     },
     "execution_count": 293,
     "metadata": {},
     "output_type": "execute_result"
    }
   ],
   "source": [
    "b[0:1,2:4]"
   ]
  },
  {
   "cell_type": "code",
   "execution_count": 294,
   "id": "9bc3d50a",
   "metadata": {},
   "outputs": [
    {
     "data": {
      "text/plain": [
       "array([[[ 2, 17, 14],\n",
       "        [66, 45, 78]],\n",
       "\n",
       "       [[89, 88, 92],\n",
       "        [55, 60, 76]],\n",
       "\n",
       "       [[76, 89, 33],\n",
       "        [12, 20, 18]]])"
      ]
     },
     "execution_count": 294,
     "metadata": {},
     "output_type": "execute_result"
    }
   ],
   "source": [
    "c"
   ]
  },
  {
   "cell_type": "code",
   "execution_count": 295,
   "id": "56be35f6",
   "metadata": {},
   "outputs": [
    {
     "data": {
      "text/plain": [
       "array([[ 2, 17, 14],\n",
       "       [66, 45, 78]])"
      ]
     },
     "execution_count": 295,
     "metadata": {},
     "output_type": "execute_result"
    }
   ],
   "source": [
    "c[0]"
   ]
  },
  {
   "cell_type": "code",
   "execution_count": 296,
   "id": "4fda90e9",
   "metadata": {},
   "outputs": [
    {
     "data": {
      "text/plain": [
       "array([66, 45, 78])"
      ]
     },
     "execution_count": 296,
     "metadata": {},
     "output_type": "execute_result"
    }
   ],
   "source": [
    "c[0,1]"
   ]
  },
  {
   "cell_type": "code",
   "execution_count": 297,
   "id": "a675ae02",
   "metadata": {},
   "outputs": [
    {
     "data": {
      "text/plain": [
       "array([66])"
      ]
     },
     "execution_count": 297,
     "metadata": {},
     "output_type": "execute_result"
    }
   ],
   "source": [
    "c[0,1,0:1]"
   ]
  },
  {
   "cell_type": "markdown",
   "id": "e6957151",
   "metadata": {},
   "source": [
    "# 8.Axis\n",
    "   1. for columns axis=0\n",
    "   2. for row axis=1"
   ]
  },
  {
   "cell_type": "code",
   "execution_count": 306,
   "id": "c3496c64",
   "metadata": {},
   "outputs": [],
   "source": [
    "a=np.arange(0,11,2)"
   ]
  },
  {
   "cell_type": "code",
   "execution_count": 307,
   "id": "47e33063",
   "metadata": {},
   "outputs": [
    {
     "data": {
      "text/plain": [
       "array([ 0,  2,  4,  6,  8, 10])"
      ]
     },
     "execution_count": 307,
     "metadata": {},
     "output_type": "execute_result"
    }
   ],
   "source": [
    "a"
   ]
  },
  {
   "cell_type": "code",
   "execution_count": 312,
   "id": "55139c5f",
   "metadata": {},
   "outputs": [],
   "source": [
    "b=np.reshape(a,(3,2))"
   ]
  },
  {
   "cell_type": "code",
   "execution_count": 314,
   "id": "cd0feb6f",
   "metadata": {},
   "outputs": [
    {
     "data": {
      "text/plain": [
       "array([[ 0,  2],\n",
       "       [ 4,  6],\n",
       "       [ 8, 10]])"
      ]
     },
     "execution_count": 314,
     "metadata": {},
     "output_type": "execute_result"
    }
   ],
   "source": [
    "np.sort(b,axis=0)"
   ]
  },
  {
   "cell_type": "code",
   "execution_count": 315,
   "id": "3bb0122b",
   "metadata": {},
   "outputs": [
    {
     "data": {
      "text/plain": [
       "array([[ 0,  2],\n",
       "       [ 4,  6],\n",
       "       [ 8, 10]])"
      ]
     },
     "execution_count": 315,
     "metadata": {},
     "output_type": "execute_result"
    }
   ],
   "source": [
    "np.sort(b,axis=1)"
   ]
  },
  {
   "cell_type": "markdown",
   "id": "3caaa510",
   "metadata": {},
   "source": [
    "# 9.data types copy(),view()\n",
    "    i-----int\n",
    "    s-----string\n",
    "    f-----float\n",
    "    u-----unicode strings\n",
    "    m-----time delta\n",
    "    M-----date time\n",
    "    o-----object\n",
    "    v-----void\n",
    "        32 bit or 64 bit\n",
    "    x=a.astype(\"f\")\n",
    "    view()---------create a reference to existing array\n",
    "    copy()---------"
   ]
  },
  {
   "cell_type": "code",
   "execution_count": 350,
   "id": "f621ff73",
   "metadata": {},
   "outputs": [
    {
     "data": {
      "text/plain": [
       "array([1, 2, 3, 4, 5, 6, 7])"
      ]
     },
     "execution_count": 350,
     "metadata": {},
     "output_type": "execute_result"
    }
   ],
   "source": [
    "a=np.array([1,2,3,4,5,6,7])\n",
    "a"
   ]
  },
  {
   "cell_type": "code",
   "execution_count": 351,
   "id": "4b5b3c0a",
   "metadata": {},
   "outputs": [],
   "source": [
    "c=a.copy()"
   ]
  },
  {
   "cell_type": "code",
   "execution_count": 352,
   "id": "8831026e",
   "metadata": {},
   "outputs": [
    {
     "data": {
      "text/plain": [
       "array([1, 2, 3, 4, 5, 6, 7])"
      ]
     },
     "execution_count": 352,
     "metadata": {},
     "output_type": "execute_result"
    }
   ],
   "source": [
    "c"
   ]
  },
  {
   "cell_type": "code",
   "execution_count": 353,
   "id": "0a541f23",
   "metadata": {},
   "outputs": [
    {
     "data": {
      "text/plain": [
       "2"
      ]
     },
     "execution_count": 353,
     "metadata": {},
     "output_type": "execute_result"
    }
   ],
   "source": [
    "c[1]"
   ]
  },
  {
   "cell_type": "code",
   "execution_count": 354,
   "id": "138658ab",
   "metadata": {},
   "outputs": [
    {
     "data": {
      "text/plain": [
       "1"
      ]
     },
     "execution_count": 354,
     "metadata": {},
     "output_type": "execute_result"
    }
   ],
   "source": [
    "c[0]"
   ]
  },
  {
   "cell_type": "code",
   "execution_count": 355,
   "id": "f28c5750",
   "metadata": {},
   "outputs": [],
   "source": [
    "v=a.view()"
   ]
  },
  {
   "cell_type": "code",
   "execution_count": 356,
   "id": "50ea50d3",
   "metadata": {},
   "outputs": [
    {
     "data": {
      "text/plain": [
       "array([1, 2, 3, 4, 5, 6, 7])"
      ]
     },
     "execution_count": 356,
     "metadata": {},
     "output_type": "execute_result"
    }
   ],
   "source": [
    "v"
   ]
  },
  {
   "cell_type": "code",
   "execution_count": 357,
   "id": "2975d246",
   "metadata": {},
   "outputs": [],
   "source": [
    "v[0]=10"
   ]
  },
  {
   "cell_type": "code",
   "execution_count": 358,
   "id": "86bd2ac4",
   "metadata": {},
   "outputs": [
    {
     "data": {
      "text/plain": [
       "array([10,  2,  3,  4,  5,  6,  7])"
      ]
     },
     "execution_count": 358,
     "metadata": {},
     "output_type": "execute_result"
    }
   ],
   "source": [
    "v"
   ]
  },
  {
   "cell_type": "code",
   "execution_count": 359,
   "id": "3782778e",
   "metadata": {},
   "outputs": [],
   "source": [
    "a[2]=500"
   ]
  },
  {
   "cell_type": "code",
   "execution_count": 360,
   "id": "0082827d",
   "metadata": {},
   "outputs": [
    {
     "data": {
      "text/plain": [
       "array([ 10,   2, 500,   4,   5,   6,   7])"
      ]
     },
     "execution_count": 360,
     "metadata": {},
     "output_type": "execute_result"
    }
   ],
   "source": [
    "a"
   ]
  },
  {
   "cell_type": "code",
   "execution_count": 361,
   "id": "66a03b85",
   "metadata": {},
   "outputs": [
    {
     "data": {
      "text/plain": [
       "array([ 10,   2, 500,   4,   5,   6,   7])"
      ]
     },
     "execution_count": 361,
     "metadata": {},
     "output_type": "execute_result"
    }
   ],
   "source": [
    "v\n"
   ]
  },
  {
   "cell_type": "code",
   "execution_count": 362,
   "id": "95c6f34f",
   "metadata": {},
   "outputs": [
    {
     "data": {
      "text/plain": [
       "array([1, 2, 3, 4, 5, 6, 7])"
      ]
     },
     "execution_count": 362,
     "metadata": {},
     "output_type": "execute_result"
    }
   ],
   "source": [
    "c"
   ]
  },
  {
   "cell_type": "markdown",
   "id": "e0f4a4ce",
   "metadata": {},
   "source": [
    "# 10.joining two arrays\n",
    "        1.concatenate((a,b,c),axis=0/1)\n",
    "        2.stack((a,b))\n",
    "        3.vstack((a,b))\n",
    "        4.hstack((a,b))\n",
    "        5.dstack((a,b))"
   ]
  },
  {
   "cell_type": "code",
   "execution_count": 371,
   "id": "2b4abec6",
   "metadata": {},
   "outputs": [],
   "source": [
    "a=np.arange(0,50,2).reshape(5,5)"
   ]
  },
  {
   "cell_type": "code",
   "execution_count": 372,
   "id": "10d4934e",
   "metadata": {},
   "outputs": [
    {
     "data": {
      "text/plain": [
       "5"
      ]
     },
     "execution_count": 372,
     "metadata": {},
     "output_type": "execute_result"
    }
   ],
   "source": [
    "len(a)"
   ]
  },
  {
   "cell_type": "code",
   "execution_count": 373,
   "id": "bd737e96",
   "metadata": {},
   "outputs": [
    {
     "data": {
      "text/plain": [
       "array([[ 0,  2,  4,  6,  8],\n",
       "       [10, 12, 14, 16, 18],\n",
       "       [20, 22, 24, 26, 28],\n",
       "       [30, 32, 34, 36, 38],\n",
       "       [40, 42, 44, 46, 48]])"
      ]
     },
     "execution_count": 373,
     "metadata": {},
     "output_type": "execute_result"
    }
   ],
   "source": [
    "a"
   ]
  },
  {
   "cell_type": "code",
   "execution_count": 379,
   "id": "683635f1",
   "metadata": {},
   "outputs": [],
   "source": [
    "b=np.arange(0,100,2).reshape(10,5)"
   ]
  },
  {
   "cell_type": "code",
   "execution_count": 388,
   "id": "022b7d8b",
   "metadata": {},
   "outputs": [],
   "source": [
    "d=b[1:6,:]"
   ]
  },
  {
   "cell_type": "code",
   "execution_count": 385,
   "id": "d74d8375",
   "metadata": {},
   "outputs": [
    {
     "data": {
      "text/plain": [
       "10"
      ]
     },
     "execution_count": 385,
     "metadata": {},
     "output_type": "execute_result"
    }
   ],
   "source": [
    "len(b)"
   ]
  },
  {
   "cell_type": "code",
   "execution_count": 389,
   "id": "fe2eab26",
   "metadata": {},
   "outputs": [],
   "source": [
    "c=np.concatenate((a,d),axis=1)"
   ]
  },
  {
   "cell_type": "code",
   "execution_count": 390,
   "id": "296179dc",
   "metadata": {},
   "outputs": [
    {
     "data": {
      "text/plain": [
       "array([[ 0,  2,  4,  6,  8, 10, 12, 14, 16, 18],\n",
       "       [10, 12, 14, 16, 18, 20, 22, 24, 26, 28],\n",
       "       [20, 22, 24, 26, 28, 30, 32, 34, 36, 38],\n",
       "       [30, 32, 34, 36, 38, 40, 42, 44, 46, 48],\n",
       "       [40, 42, 44, 46, 48, 50, 52, 54, 56, 58]])"
      ]
     },
     "execution_count": 390,
     "metadata": {},
     "output_type": "execute_result"
    }
   ],
   "source": [
    "c"
   ]
  },
  {
   "cell_type": "code",
   "execution_count": 391,
   "id": "6ab67ca8",
   "metadata": {},
   "outputs": [],
   "source": [
    "c=np.concatenate((a,d),axis=0)"
   ]
  },
  {
   "cell_type": "code",
   "execution_count": 392,
   "id": "516c1835",
   "metadata": {},
   "outputs": [
    {
     "data": {
      "text/plain": [
       "array([[ 0,  2,  4,  6,  8],\n",
       "       [10, 12, 14, 16, 18],\n",
       "       [20, 22, 24, 26, 28],\n",
       "       [30, 32, 34, 36, 38],\n",
       "       [40, 42, 44, 46, 48],\n",
       "       [10, 12, 14, 16, 18],\n",
       "       [20, 22, 24, 26, 28],\n",
       "       [30, 32, 34, 36, 38],\n",
       "       [40, 42, 44, 46, 48],\n",
       "       [50, 52, 54, 56, 58]])"
      ]
     },
     "execution_count": 392,
     "metadata": {},
     "output_type": "execute_result"
    }
   ],
   "source": [
    "c"
   ]
  },
  {
   "cell_type": "code",
   "execution_count": 393,
   "id": "1c02529e",
   "metadata": {},
   "outputs": [
    {
     "data": {
      "text/plain": [
       "array([[ 0,  2,  4,  6,  8],\n",
       "       [10, 12, 14, 16, 18],\n",
       "       [20, 22, 24, 26, 28],\n",
       "       [30, 32, 34, 36, 38],\n",
       "       [40, 42, 44, 46, 48]])"
      ]
     },
     "execution_count": 393,
     "metadata": {},
     "output_type": "execute_result"
    }
   ],
   "source": [
    "a"
   ]
  },
  {
   "cell_type": "code",
   "execution_count": 394,
   "id": "71840083",
   "metadata": {},
   "outputs": [
    {
     "data": {
      "text/plain": [
       "array([[ 0,  2,  4,  6,  8],\n",
       "       [10, 12, 14, 16, 18],\n",
       "       [20, 22, 24, 26, 28],\n",
       "       [30, 32, 34, 36, 38],\n",
       "       [40, 42, 44, 46, 48],\n",
       "       [50, 52, 54, 56, 58],\n",
       "       [60, 62, 64, 66, 68],\n",
       "       [70, 72, 74, 76, 78],\n",
       "       [80, 82, 84, 86, 88],\n",
       "       [90, 92, 94, 96, 98]])"
      ]
     },
     "execution_count": 394,
     "metadata": {},
     "output_type": "execute_result"
    }
   ],
   "source": [
    "b"
   ]
  },
  {
   "cell_type": "code",
   "execution_count": 395,
   "id": "9d9ac4b3",
   "metadata": {},
   "outputs": [
    {
     "data": {
      "text/plain": [
       "array([[ 0,  2,  4,  6,  8],\n",
       "       [10, 12, 14, 16, 18],\n",
       "       [20, 22, 24, 26, 28],\n",
       "       [30, 32, 34, 36, 38],\n",
       "       [40, 42, 44, 46, 48],\n",
       "       [10, 12, 14, 16, 18],\n",
       "       [20, 22, 24, 26, 28],\n",
       "       [30, 32, 34, 36, 38],\n",
       "       [40, 42, 44, 46, 48],\n",
       "       [50, 52, 54, 56, 58]])"
      ]
     },
     "execution_count": 395,
     "metadata": {},
     "output_type": "execute_result"
    }
   ],
   "source": [
    "c"
   ]
  },
  {
   "cell_type": "code",
   "execution_count": 396,
   "id": "f36acf0e",
   "metadata": {},
   "outputs": [
    {
     "data": {
      "text/plain": [
       "array([[10, 12, 14, 16, 18],\n",
       "       [20, 22, 24, 26, 28],\n",
       "       [30, 32, 34, 36, 38],\n",
       "       [40, 42, 44, 46, 48],\n",
       "       [50, 52, 54, 56, 58]])"
      ]
     },
     "execution_count": 396,
     "metadata": {},
     "output_type": "execute_result"
    }
   ],
   "source": [
    "d"
   ]
  },
  {
   "cell_type": "code",
   "execution_count": 398,
   "id": "557fe79c",
   "metadata": {},
   "outputs": [
    {
     "data": {
      "text/plain": [
       "array([[[ 0,  2,  4,  6,  8],\n",
       "        [10, 12, 14, 16, 18],\n",
       "        [20, 22, 24, 26, 28],\n",
       "        [30, 32, 34, 36, 38],\n",
       "        [40, 42, 44, 46, 48]],\n",
       "\n",
       "       [[10, 12, 14, 16, 18],\n",
       "        [20, 22, 24, 26, 28],\n",
       "        [30, 32, 34, 36, 38],\n",
       "        [40, 42, 44, 46, 48],\n",
       "        [50, 52, 54, 56, 58]]])"
      ]
     },
     "execution_count": 398,
     "metadata": {},
     "output_type": "execute_result"
    }
   ],
   "source": [
    "np.stack((a,d))"
   ]
  },
  {
   "cell_type": "code",
   "execution_count": 399,
   "id": "c31226d0",
   "metadata": {},
   "outputs": [
    {
     "data": {
      "text/plain": [
       "array([[ 0,  2,  4,  6,  8, 10, 12, 14, 16, 18],\n",
       "       [10, 12, 14, 16, 18, 20, 22, 24, 26, 28],\n",
       "       [20, 22, 24, 26, 28, 30, 32, 34, 36, 38],\n",
       "       [30, 32, 34, 36, 38, 40, 42, 44, 46, 48],\n",
       "       [40, 42, 44, 46, 48, 50, 52, 54, 56, 58]])"
      ]
     },
     "execution_count": 399,
     "metadata": {},
     "output_type": "execute_result"
    }
   ],
   "source": [
    "np.hstack((a,d))"
   ]
  },
  {
   "cell_type": "code",
   "execution_count": 400,
   "id": "fe0dc464",
   "metadata": {},
   "outputs": [
    {
     "data": {
      "text/plain": [
       "array([[ 0,  2,  4,  6,  8],\n",
       "       [10, 12, 14, 16, 18],\n",
       "       [20, 22, 24, 26, 28],\n",
       "       [30, 32, 34, 36, 38],\n",
       "       [40, 42, 44, 46, 48],\n",
       "       [10, 12, 14, 16, 18],\n",
       "       [20, 22, 24, 26, 28],\n",
       "       [30, 32, 34, 36, 38],\n",
       "       [40, 42, 44, 46, 48],\n",
       "       [50, 52, 54, 56, 58]])"
      ]
     },
     "execution_count": 400,
     "metadata": {},
     "output_type": "execute_result"
    }
   ],
   "source": [
    "np.vstack((a,d))"
   ]
  },
  {
   "cell_type": "markdown",
   "id": "2149e465",
   "metadata": {},
   "source": [
    "# 11.splittig\n",
    "    split(array_name,no_of_splits)\n",
    "    "
   ]
  },
  {
   "cell_type": "code",
   "execution_count": 403,
   "id": "7f62e644",
   "metadata": {},
   "outputs": [],
   "source": [
    "a=np.arange(16)"
   ]
  },
  {
   "cell_type": "code",
   "execution_count": 404,
   "id": "7e4c327b",
   "metadata": {},
   "outputs": [
    {
     "data": {
      "text/plain": [
       "array([ 0,  1,  2,  3,  4,  5,  6,  7,  8,  9, 10, 11, 12, 13, 14, 15])"
      ]
     },
     "execution_count": 404,
     "metadata": {},
     "output_type": "execute_result"
    }
   ],
   "source": [
    "a"
   ]
  },
  {
   "cell_type": "code",
   "execution_count": 408,
   "id": "7cf5fcec",
   "metadata": {},
   "outputs": [
    {
     "data": {
      "text/plain": [
       "[array([0, 1, 2, 3]),\n",
       " array([4, 5, 6, 7]),\n",
       " array([ 8,  9, 10, 11]),\n",
       " array([12, 13, 14, 15])]"
      ]
     },
     "execution_count": 408,
     "metadata": {},
     "output_type": "execute_result"
    }
   ],
   "source": [
    "np.split(a,4)"
   ]
  },
  {
   "cell_type": "code",
   "execution_count": 409,
   "id": "d2ef024c",
   "metadata": {},
   "outputs": [
    {
     "data": {
      "text/plain": [
       "[array([0, 1]),\n",
       " array([2, 3]),\n",
       " array([4, 5]),\n",
       " array([6, 7]),\n",
       " array([8, 9]),\n",
       " array([10, 11]),\n",
       " array([12, 13]),\n",
       " array([14, 15])]"
      ]
     },
     "execution_count": 409,
     "metadata": {},
     "output_type": "execute_result"
    }
   ],
   "source": [
    "np.split(a,8)"
   ]
  },
  {
   "cell_type": "code",
   "execution_count": 411,
   "id": "3a6f69c2",
   "metadata": {},
   "outputs": [],
   "source": [
    "d=a.reshape(4,4)"
   ]
  },
  {
   "cell_type": "code",
   "execution_count": 412,
   "id": "562c76a5",
   "metadata": {},
   "outputs": [
    {
     "data": {
      "text/plain": [
       "[array([[0, 1, 2, 3],\n",
       "        [4, 5, 6, 7]]),\n",
       " array([[ 8,  9, 10, 11],\n",
       "        [12, 13, 14, 15]])]"
      ]
     },
     "execution_count": 412,
     "metadata": {},
     "output_type": "execute_result"
    }
   ],
   "source": [
    "np.vsplit(d,2)"
   ]
  },
  {
   "cell_type": "code",
   "execution_count": 413,
   "id": "e0e2005a",
   "metadata": {},
   "outputs": [
    {
     "data": {
      "text/plain": [
       "[array([[ 0,  1],\n",
       "        [ 4,  5],\n",
       "        [ 8,  9],\n",
       "        [12, 13]]),\n",
       " array([[ 2,  3],\n",
       "        [ 6,  7],\n",
       "        [10, 11],\n",
       "        [14, 15]])]"
      ]
     },
     "execution_count": 413,
     "metadata": {},
     "output_type": "execute_result"
    }
   ],
   "source": [
    "np.hsplit(d,2)"
   ]
  },
  {
   "cell_type": "markdown",
   "id": "3ebe9a8d",
   "metadata": {},
   "source": [
    "# 12.searching\n",
    "    "
   ]
  },
  {
   "cell_type": "code",
   "execution_count": 417,
   "id": "599bddee",
   "metadata": {},
   "outputs": [
    {
     "data": {
      "text/plain": [
       "(array([0, 1, 2, 3], dtype=int64), array([0, 1, 2, 3], dtype=int64))"
      ]
     },
     "execution_count": 417,
     "metadata": {},
     "output_type": "execute_result"
    }
   ],
   "source": [
    "np.where(d%5==0)"
   ]
  },
  {
   "cell_type": "markdown",
   "id": "3cff8af8",
   "metadata": {},
   "source": [
    "# 13.sort "
   ]
  },
  {
   "cell_type": "code",
   "execution_count": 363,
   "id": "ce059527",
   "metadata": {},
   "outputs": [
    {
     "data": {
      "text/plain": [
       "array([  2,   4,   5,   6,   7,  10, 500])"
      ]
     },
     "execution_count": 363,
     "metadata": {},
     "output_type": "execute_result"
    }
   ],
   "source": [
    "np.sort(v)"
   ]
  },
  {
   "cell_type": "code",
   "execution_count": 364,
   "id": "4bdfbf42",
   "metadata": {},
   "outputs": [
    {
     "data": {
      "text/plain": [
       "array([ 10,   2, 500,   4,   5,   6,   7])"
      ]
     },
     "execution_count": 364,
     "metadata": {},
     "output_type": "execute_result"
    }
   ],
   "source": [
    "a"
   ]
  },
  {
   "cell_type": "code",
   "execution_count": 365,
   "id": "20ed9d10",
   "metadata": {},
   "outputs": [
    {
     "data": {
      "text/plain": [
       "array([  2,   4,   5,   6,   7,  10, 500])"
      ]
     },
     "execution_count": 365,
     "metadata": {},
     "output_type": "execute_result"
    }
   ],
   "source": [
    "np.sort(a)"
   ]
  },
  {
   "cell_type": "code",
   "execution_count": 366,
   "id": "a7d15bc2",
   "metadata": {},
   "outputs": [
    {
     "data": {
      "text/plain": [
       "array([1, 2, 3, 4, 5, 6, 7])"
      ]
     },
     "execution_count": 366,
     "metadata": {},
     "output_type": "execute_result"
    }
   ],
   "source": [
    "np.sort(c)"
   ]
  },
  {
   "cell_type": "markdown",
   "id": "49a746c9",
   "metadata": {},
   "source": [
    "# Arithematic operations\n",
    "  * shape must be equal(element to element operations will be done)\n",
    "  * 2 nd array should have atleast one dim(elments ==no of rows in first array)\n",
    "  * 2 nd array hving single elements then als owe can apply the opratons\n",
    "  \n",
    "  np.add(first_array,second_array)\n",
    "  np.subtract(first_array,second_array)\n",
    "  np.multiply(first_array,second_array)\n",
    "  np.divide(first_array,second_array)\n",
    "  np.power(first_array,second_array)\n",
    "  np.mod(first_array,second_array)\n",
    "  np.real(first_array,second_array)\n",
    "  np.imag(first_array,second_array)\n",
    "  np.conjugate(first_array,second_array)"
   ]
  },
  {
   "cell_type": "code",
   "execution_count": 429,
   "id": "fbb25f62",
   "metadata": {},
   "outputs": [],
   "source": [
    "a=np.arange(9)"
   ]
  },
  {
   "cell_type": "code",
   "execution_count": 430,
   "id": "f2b5d013",
   "metadata": {},
   "outputs": [
    {
     "data": {
      "text/plain": [
       "array([0, 1, 2, 3, 4, 5, 6, 7, 8])"
      ]
     },
     "execution_count": 430,
     "metadata": {},
     "output_type": "execute_result"
    }
   ],
   "source": [
    "a"
   ]
  },
  {
   "cell_type": "code",
   "execution_count": 437,
   "id": "8a39a429",
   "metadata": {},
   "outputs": [],
   "source": [
    "a=a.reshape(3,3)"
   ]
  },
  {
   "cell_type": "code",
   "execution_count": 438,
   "id": "055d3426",
   "metadata": {},
   "outputs": [],
   "source": [
    "b=np.ones([3,3],dtype=\"int\")"
   ]
  },
  {
   "cell_type": "code",
   "execution_count": 439,
   "id": "add8a6cc",
   "metadata": {},
   "outputs": [
    {
     "data": {
      "text/plain": [
       "array([[1, 1, 1],\n",
       "       [1, 1, 1],\n",
       "       [1, 1, 1]])"
      ]
     },
     "execution_count": 439,
     "metadata": {},
     "output_type": "execute_result"
    }
   ],
   "source": [
    "b"
   ]
  },
  {
   "cell_type": "code",
   "execution_count": 440,
   "id": "586ba2e4",
   "metadata": {},
   "outputs": [
    {
     "data": {
      "text/plain": [
       "(3, 3)"
      ]
     },
     "execution_count": 440,
     "metadata": {},
     "output_type": "execute_result"
    }
   ],
   "source": [
    "np.shape(a)"
   ]
  },
  {
   "cell_type": "code",
   "execution_count": 441,
   "id": "824bf31e",
   "metadata": {},
   "outputs": [
    {
     "data": {
      "text/plain": [
       "(3, 3)"
      ]
     },
     "execution_count": 441,
     "metadata": {},
     "output_type": "execute_result"
    }
   ],
   "source": [
    "np.shape(b)"
   ]
  },
  {
   "cell_type": "code",
   "execution_count": 442,
   "id": "db8fb74a",
   "metadata": {},
   "outputs": [],
   "source": [
    "c=np.array([10,20,30])"
   ]
  },
  {
   "cell_type": "code",
   "execution_count": 443,
   "id": "6f4931c4",
   "metadata": {},
   "outputs": [
    {
     "data": {
      "text/plain": [
       "array([10, 20, 30])"
      ]
     },
     "execution_count": 443,
     "metadata": {},
     "output_type": "execute_result"
    }
   ],
   "source": [
    "c"
   ]
  },
  {
   "cell_type": "code",
   "execution_count": 444,
   "id": "8a321cb7",
   "metadata": {},
   "outputs": [
    {
     "data": {
      "text/plain": [
       "array([[0, 1, 2],\n",
       "       [3, 4, 5],\n",
       "       [6, 7, 8]])"
      ]
     },
     "execution_count": 444,
     "metadata": {},
     "output_type": "execute_result"
    }
   ],
   "source": [
    "a"
   ]
  },
  {
   "cell_type": "code",
   "execution_count": 445,
   "id": "f38cd0d5",
   "metadata": {},
   "outputs": [
    {
     "data": {
      "text/plain": [
       "array([[1, 1, 1],\n",
       "       [1, 1, 1],\n",
       "       [1, 1, 1]])"
      ]
     },
     "execution_count": 445,
     "metadata": {},
     "output_type": "execute_result"
    }
   ],
   "source": [
    "b"
   ]
  },
  {
   "cell_type": "code",
   "execution_count": 446,
   "id": "92546169",
   "metadata": {},
   "outputs": [
    {
     "data": {
      "text/plain": [
       "array([10, 20, 30])"
      ]
     },
     "execution_count": 446,
     "metadata": {},
     "output_type": "execute_result"
    }
   ],
   "source": [
    "c"
   ]
  },
  {
   "cell_type": "code",
   "execution_count": 447,
   "id": "0d7e8ed1",
   "metadata": {},
   "outputs": [
    {
     "data": {
      "text/plain": [
       "array([[1, 2, 3],\n",
       "       [4, 5, 6],\n",
       "       [7, 8, 9]])"
      ]
     },
     "execution_count": 447,
     "metadata": {},
     "output_type": "execute_result"
    }
   ],
   "source": [
    "np.add(a,b)"
   ]
  },
  {
   "cell_type": "code",
   "execution_count": 448,
   "id": "b2e65e35",
   "metadata": {},
   "outputs": [
    {
     "data": {
      "text/plain": [
       "array([[10, 21, 32],\n",
       "       [13, 24, 35],\n",
       "       [16, 27, 38]])"
      ]
     },
     "execution_count": 448,
     "metadata": {},
     "output_type": "execute_result"
    }
   ],
   "source": [
    "np.add(a,c)"
   ]
  },
  {
   "cell_type": "code",
   "execution_count": 450,
   "id": "de2f28e2",
   "metadata": {},
   "outputs": [
    {
     "data": {
      "text/plain": [
       "array([[-1,  0,  1],\n",
       "       [ 2,  3,  4],\n",
       "       [ 5,  6,  7]])"
      ]
     },
     "execution_count": 450,
     "metadata": {},
     "output_type": "execute_result"
    }
   ],
   "source": [
    "np.subtract(b,a)\n",
    "np.subtract(a,b)"
   ]
  },
  {
   "cell_type": "code",
   "execution_count": 455,
   "id": "ae6c1226",
   "metadata": {},
   "outputs": [],
   "source": [
    "x=np.array([3+5j,10-4j])"
   ]
  },
  {
   "cell_type": "code",
   "execution_count": 458,
   "id": "a5781026",
   "metadata": {},
   "outputs": [
    {
     "data": {
      "text/plain": [
       "array([ 3.+5.j, 10.-4.j])"
      ]
     },
     "execution_count": 458,
     "metadata": {},
     "output_type": "execute_result"
    }
   ],
   "source": [
    "x"
   ]
  },
  {
   "cell_type": "code",
   "execution_count": 459,
   "id": "efdc013b",
   "metadata": {},
   "outputs": [
    {
     "data": {
      "text/plain": [
       "array([ 3., 10.])"
      ]
     },
     "execution_count": 459,
     "metadata": {},
     "output_type": "execute_result"
    }
   ],
   "source": [
    "np.real(x)"
   ]
  },
  {
   "cell_type": "code",
   "execution_count": 460,
   "id": "7e7cd7be",
   "metadata": {},
   "outputs": [
    {
     "data": {
      "text/plain": [
       "array([ 5., -4.])"
      ]
     },
     "execution_count": 460,
     "metadata": {},
     "output_type": "execute_result"
    }
   ],
   "source": [
    "np.imag(x)"
   ]
  },
  {
   "cell_type": "code",
   "execution_count": 461,
   "id": "b49481e6",
   "metadata": {},
   "outputs": [
    {
     "data": {
      "text/plain": [
       "array([ 3.-5.j, 10.+4.j])"
      ]
     },
     "execution_count": 461,
     "metadata": {},
     "output_type": "execute_result"
    }
   ],
   "source": [
    "np.conjugate(x)"
   ]
  },
  {
   "cell_type": "markdown",
   "id": "a976495d",
   "metadata": {},
   "source": [
    "# Statistical Functions\n",
    "    amin()\n",
    "    amax()\n",
    "    avarage()\n",
    "    mean()\n",
    "    median()\n",
    "    var()\n",
    "    std()\n",
    "    "
   ]
  },
  {
   "cell_type": "code",
   "execution_count": 463,
   "id": "016af5b4",
   "metadata": {},
   "outputs": [],
   "source": [
    "a=np.array([[56,23,48],[45,89,63,],[12,58,97]])"
   ]
  },
  {
   "cell_type": "code",
   "execution_count": 464,
   "id": "1406c768",
   "metadata": {},
   "outputs": [
    {
     "data": {
      "text/plain": [
       "array([[56, 23, 48],\n",
       "       [45, 89, 63],\n",
       "       [12, 58, 97]])"
      ]
     },
     "execution_count": 464,
     "metadata": {},
     "output_type": "execute_result"
    }
   ],
   "source": [
    "a"
   ]
  },
  {
   "cell_type": "code",
   "execution_count": 469,
   "id": "2e80ff55",
   "metadata": {},
   "outputs": [
    {
     "data": {
      "text/plain": [
       "array([23, 45, 12])"
      ]
     },
     "execution_count": 469,
     "metadata": {},
     "output_type": "execute_result"
    }
   ],
   "source": [
    "np.amin(a)\n",
    "np.amin(a,axis=0)\n",
    "np.amin(a,axis=1)"
   ]
  },
  {
   "cell_type": "code",
   "execution_count": 470,
   "id": "8eaf9442",
   "metadata": {},
   "outputs": [
    {
     "data": {
      "text/plain": [
       "array([56, 89, 97])"
      ]
     },
     "execution_count": 470,
     "metadata": {},
     "output_type": "execute_result"
    }
   ],
   "source": [
    "np.amax(a)\n",
    "np.amax(a,axis=0)\n",
    "np.amax(a,axis=1)"
   ]
  },
  {
   "cell_type": "code",
   "execution_count": 476,
   "id": "c1fd7d2e",
   "metadata": {},
   "outputs": [
    {
     "data": {
      "text/plain": [
       "array([42.33333333, 65.66666667, 55.66666667])"
      ]
     },
     "execution_count": 476,
     "metadata": {},
     "output_type": "execute_result"
    }
   ],
   "source": [
    "np.average(a)\n",
    "np.average(a,axis=0)\n",
    "np.average(a,axis=1)"
   ]
  },
  {
   "cell_type": "code",
   "execution_count": 477,
   "id": "156f8ed0",
   "metadata": {},
   "outputs": [
    {
     "data": {
      "text/plain": [
       "54.55555555555556"
      ]
     },
     "execution_count": 477,
     "metadata": {},
     "output_type": "execute_result"
    }
   ],
   "source": [
    "np.mean(a)\n"
   ]
  },
  {
   "cell_type": "code",
   "execution_count": 478,
   "id": "15388cbe",
   "metadata": {},
   "outputs": [
    {
     "data": {
      "text/plain": [
       "array([37.66666667, 56.66666667, 69.33333333])"
      ]
     },
     "execution_count": 478,
     "metadata": {},
     "output_type": "execute_result"
    }
   ],
   "source": [
    "np.mean(a,axis=0)\n"
   ]
  },
  {
   "cell_type": "code",
   "execution_count": 479,
   "id": "bf0f5173",
   "metadata": {},
   "outputs": [
    {
     "data": {
      "text/plain": [
       "array([42.33333333, 65.66666667, 55.66666667])"
      ]
     },
     "execution_count": 479,
     "metadata": {},
     "output_type": "execute_result"
    }
   ],
   "source": [
    "np.mean(a,axis=1)"
   ]
  },
  {
   "cell_type": "code",
   "execution_count": 480,
   "id": "80bf5223",
   "metadata": {},
   "outputs": [
    {
     "data": {
      "text/plain": [
       "56.0"
      ]
     },
     "execution_count": 480,
     "metadata": {},
     "output_type": "execute_result"
    }
   ],
   "source": [
    "np.median(a)"
   ]
  },
  {
   "cell_type": "code",
   "execution_count": 481,
   "id": "78592ac7",
   "metadata": {},
   "outputs": [
    {
     "data": {
      "text/plain": [
       "array([45., 58., 63.])"
      ]
     },
     "execution_count": 481,
     "metadata": {},
     "output_type": "execute_result"
    }
   ],
   "source": [
    "np.median(a,axis=0)"
   ]
  },
  {
   "cell_type": "code",
   "execution_count": 482,
   "id": "1a76c96d",
   "metadata": {},
   "outputs": [
    {
     "data": {
      "text/plain": [
       "array([48., 63., 58.])"
      ]
     },
     "execution_count": 482,
     "metadata": {},
     "output_type": "execute_result"
    }
   ],
   "source": [
    "np.median(a,axis=1)"
   ]
  }
 ],
 "metadata": {
  "kernelspec": {
   "display_name": "Python 3 (ipykernel)",
   "language": "python",
   "name": "python3"
  },
  "language_info": {
   "codemirror_mode": {
    "name": "ipython",
    "version": 3
   },
   "file_extension": ".py",
   "mimetype": "text/x-python",
   "name": "python",
   "nbconvert_exporter": "python",
   "pygments_lexer": "ipython3",
   "version": "3.9.12"
  }
 },
 "nbformat": 4,
 "nbformat_minor": 5
}
