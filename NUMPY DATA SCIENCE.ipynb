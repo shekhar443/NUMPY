{
 "cells": [
  {
   "cell_type": "code",
   "execution_count": 3,
   "id": "fd5b306a",
   "metadata": {},
   "outputs": [],
   "source": [
    "import pandas as pd\n",
    "import numpy as np\n",
    "import time"
   ]
  },
  {
   "cell_type": "code",
   "execution_count": 4,
   "id": "9a68deb9",
   "metadata": {},
   "outputs": [
    {
     "name": "stdout",
     "output_type": "stream",
     "text": [
      "Numpy version: 1.23.4\n"
     ]
    }
   ],
   "source": [
    "print('Numpy version: ' + np.__version__)"
   ]
  },
  {
   "cell_type": "markdown",
   "id": "d3a9da18",
   "metadata": {
    "heading_collapsed": true,
    "jp-MarkdownHeadingCollapsed": true,
    "tags": []
   },
   "source": [
    "## Create an Array\n",
    "    list\n",
    "    tuple\n",
    "    range\n",
    "    1D\n",
    "    2D\n",
    "    3D\n",
    "    np.arange()\n",
    "    np.linspace(): Create array of fixed length\n",
    "    np.random.rand(): method returns values in the range [0,1)\n",
    "    np.ones(): Create array of 1s , np.ones_like()\n",
    "    np.zeros(): Create array of 0s , np.zeros_like()\n",
    "    np.empty(), np.empty_like()\n",
    "    np.full(),np.full_like()\n",
    "    np.random.random(): Create array of random numbers\n",
    "    \n",
    "    np.arange(): Create array with increments of a fixed step size\n",
    "        start: start number (inclusive)\n",
    "        stop: end number (inclusive unless endpoint set to False)\n",
    "        num_of_elements: number of elements contained in the array\n",
    "        endpoint: boolean value representing whether the stop number is inclusive or not\n",
    "        retstep: boolean value representing whether to return the step size\n",
    "    \n",
    "    np.random.rand()\n",
    "    \n",
    "    np.repeat(iterable, reps, axis=None): repeat each element by n times\n",
    "        iterable: input array\n",
    "        reps: number of repetitions\n",
    "        axis: which axis to repeat along, default is None which will flatten the input array and then repeat\n",
    "    \n",
    "    np.tile(): repeat the whole array by n times\n",
    "        iterable: input array\n",
    "        reps: number of repetitions, it can be a tuple to represent repetitions along x-axis and y-axis\n",
    "    \n",
    "    np.eye(size, k=0): create an identity matrix of given size\n",
    "        size: the size of the identity matrix\n",
    "        k: the diagonal offset\n",
    "    \n",
    "    np.identity(): same as np.eye() but does not carry parameters\n",
    "    \n",
    "    Create an array with given values on the diagonal\n",
    "    time calculation between list and array"
   ]
  },
  {
   "cell_type": "code",
   "execution_count": 5,
   "id": "75852ea3",
   "metadata": {
    "hidden": true
   },
   "outputs": [
    {
     "data": {
      "text/plain": [
       "array([ 2, 56,  4,  8,  9,  9])"
      ]
     },
     "execution_count": 5,
     "metadata": {},
     "output_type": "execute_result"
    }
   ],
   "source": [
    "# 1D list\n",
    "np.array([2,56,4,8,9,9])"
   ]
  },
  {
   "cell_type": "code",
   "execution_count": 6,
   "id": "d6ffba44",
   "metadata": {
    "hidden": true
   },
   "outputs": [
    {
     "data": {
      "text/plain": [
       "array([1, 2, 3, 4, 5])"
      ]
     },
     "execution_count": 6,
     "metadata": {},
     "output_type": "execute_result"
    }
   ],
   "source": [
    "#1D tuple\n",
    "np.array((1,2,3,4,5))"
   ]
  },
  {
   "cell_type": "code",
   "execution_count": 7,
   "id": "ebbb196f",
   "metadata": {
    "hidden": true
   },
   "outputs": [
    {
     "data": {
      "text/plain": [
       "array([0, 1, 2, 3, 4, 5, 6, 7, 8, 9])"
      ]
     },
     "execution_count": 7,
     "metadata": {},
     "output_type": "execute_result"
    }
   ],
   "source": [
    "# range\n",
    "np.array(range(10))"
   ]
  },
  {
   "cell_type": "code",
   "execution_count": 8,
   "id": "2a60e24a",
   "metadata": {
    "hidden": true
   },
   "outputs": [
    {
     "data": {
      "text/plain": [
       "array([[1, 2, 3, 4],\n",
       "       [5, 6, 6, 7]])"
      ]
     },
     "execution_count": 8,
     "metadata": {},
     "output_type": "execute_result"
    }
   ],
   "source": [
    "#2D\n",
    "np.array([[1,2,3,4],[5,6,6,7]])"
   ]
  },
  {
   "cell_type": "code",
   "execution_count": 9,
   "id": "804e7b7a",
   "metadata": {
    "hidden": true
   },
   "outputs": [
    {
     "data": {
      "text/plain": [
       "array([[[1, 2, 3],\n",
       "        [2, 3, 4]],\n",
       "\n",
       "       [[3, 4, 5],\n",
       "        [5, 6, 7]]])"
      ]
     },
     "execution_count": 9,
     "metadata": {},
     "output_type": "execute_result"
    }
   ],
   "source": [
    "#3D\n",
    "np.array([[[1,2,3],[2,3,4]],[[3,4,5],[5,6,7]]])"
   ]
  },
  {
   "cell_type": "code",
   "execution_count": 10,
   "id": "9619c9c4",
   "metadata": {
    "hidden": true
   },
   "outputs": [
    {
     "data": {
      "text/plain": [
       "array([10, 16, 22, 28, 34, 40, 46])"
      ]
     },
     "execution_count": 10,
     "metadata": {},
     "output_type": "execute_result"
    }
   ],
   "source": [
    "# arange\n",
    "np.arange(10,50,6)"
   ]
  },
  {
   "cell_type": "code",
   "execution_count": 11,
   "id": "dacc6422",
   "metadata": {
    "hidden": true
   },
   "outputs": [
    {
     "data": {
      "text/plain": [
       "array([10.        , 14.44444444, 18.88888889, 23.33333333, 27.77777778,\n",
       "       32.22222222, 36.66666667, 41.11111111, 45.55555556, 50.        ])"
      ]
     },
     "execution_count": 11,
     "metadata": {},
     "output_type": "execute_result"
    }
   ],
   "source": [
    "#linspace\n",
    "np.linspace(10,50,10)"
   ]
  },
  {
   "cell_type": "code",
   "execution_count": 12,
   "id": "9b472f41",
   "metadata": {
    "hidden": true
   },
   "outputs": [
    {
     "data": {
      "text/plain": [
       "(array([10., 14., 18., 22., 26., 30., 34., 38., 42., 46.]), 4.0)"
      ]
     },
     "execution_count": 12,
     "metadata": {},
     "output_type": "execute_result"
    }
   ],
   "source": [
    "#linspace\n",
    "\n",
    "np.linspace(10,50,10,endpoint=False,retstep=True)"
   ]
  },
  {
   "cell_type": "code",
   "execution_count": 13,
   "id": "3a56f7d1",
   "metadata": {
    "hidden": true
   },
   "outputs": [
    {
     "data": {
      "text/plain": [
       "0.43168689356832146"
      ]
     },
     "execution_count": 13,
     "metadata": {},
     "output_type": "execute_result"
    }
   ],
   "source": [
    "#random.rand() in between 0 to 1\n",
    "np.random.rand()"
   ]
  },
  {
   "cell_type": "code",
   "execution_count": 14,
   "id": "036f9f5c",
   "metadata": {
    "hidden": true
   },
   "outputs": [
    {
     "data": {
      "text/plain": [
       "array([0.77995848, 0.92409315, 0.91933683])"
      ]
     },
     "execution_count": 14,
     "metadata": {},
     "output_type": "execute_result"
    }
   ],
   "source": [
    "np.random.rand(3)"
   ]
  },
  {
   "cell_type": "code",
   "execution_count": 15,
   "id": "6cd892f2",
   "metadata": {
    "hidden": true
   },
   "outputs": [
    {
     "data": {
      "text/plain": [
       "array([[0.28148355, 0.31516543, 0.67213124, 0.77313266],\n",
       "       [0.21595836, 0.94798189, 0.36103203, 0.66318187],\n",
       "       [0.72378932, 0.27216743, 0.89328594, 0.9681246 ],\n",
       "       [0.52912107, 0.15863033, 0.28809028, 0.79546563]])"
      ]
     },
     "execution_count": 15,
     "metadata": {},
     "output_type": "execute_result"
    }
   ],
   "source": [
    "np.random.rand(4,4)"
   ]
  },
  {
   "cell_type": "code",
   "execution_count": 16,
   "id": "b0d9c9ab",
   "metadata": {
    "hidden": true
   },
   "outputs": [
    {
     "data": {
      "text/plain": [
       "array([[38, 29, 49, 20],\n",
       "       [40, 16, 43, 34],\n",
       "       [49, 10, 14, 15],\n",
       "       [21, 18, 27, 22]])"
      ]
     },
     "execution_count": 16,
     "metadata": {},
     "output_type": "execute_result"
    }
   ],
   "source": [
    "np.random.randint(10,50,(4,4))"
   ]
  },
  {
   "cell_type": "code",
   "execution_count": 17,
   "id": "a1129b83",
   "metadata": {
    "hidden": true
   },
   "outputs": [
    {
     "data": {
      "text/plain": [
       "array([0], dtype=int32)"
      ]
     },
     "execution_count": 17,
     "metadata": {},
     "output_type": "execute_result"
    }
   ],
   "source": [
    "# zeros\n",
    "np.zeros(1,dtype=\"int32\")"
   ]
  },
  {
   "cell_type": "code",
   "execution_count": 18,
   "id": "f457d860",
   "metadata": {
    "hidden": true
   },
   "outputs": [
    {
     "data": {
      "text/plain": [
       "array([0., 0., 0., 0., 0.])"
      ]
     },
     "execution_count": 18,
     "metadata": {},
     "output_type": "execute_result"
    }
   ],
   "source": [
    "np.zeros(5)"
   ]
  },
  {
   "cell_type": "code",
   "execution_count": 19,
   "id": "68211063",
   "metadata": {
    "hidden": true
   },
   "outputs": [
    {
     "data": {
      "text/plain": [
       "array([[0., 0., 0., 0.],\n",
       "       [0., 0., 0., 0.],\n",
       "       [0., 0., 0., 0.],\n",
       "       [0., 0., 0., 0.]])"
      ]
     },
     "execution_count": 19,
     "metadata": {},
     "output_type": "execute_result"
    }
   ],
   "source": [
    "np.zeros((4,4))"
   ]
  },
  {
   "cell_type": "code",
   "execution_count": 20,
   "id": "9c84ab8f",
   "metadata": {
    "hidden": true
   },
   "outputs": [
    {
     "data": {
      "text/plain": [
       "array([[3, 5],\n",
       "       [9, 7],\n",
       "       [3, 2]])"
      ]
     },
     "execution_count": 20,
     "metadata": {},
     "output_type": "execute_result"
    }
   ],
   "source": [
    "a=np.random.randint(1,10,(3,2))\n",
    "a"
   ]
  },
  {
   "cell_type": "code",
   "execution_count": 21,
   "id": "81a5d428",
   "metadata": {
    "hidden": true
   },
   "outputs": [
    {
     "data": {
      "text/plain": [
       "array([[0, 0],\n",
       "       [0, 0],\n",
       "       [0, 0]])"
      ]
     },
     "execution_count": 21,
     "metadata": {},
     "output_type": "execute_result"
    }
   ],
   "source": [
    "np.zeros_like(a)"
   ]
  },
  {
   "cell_type": "code",
   "execution_count": 22,
   "id": "25a55eb3",
   "metadata": {
    "hidden": true
   },
   "outputs": [
    {
     "data": {
      "text/plain": [
       "array([1., 1.])"
      ]
     },
     "execution_count": 22,
     "metadata": {},
     "output_type": "execute_result"
    }
   ],
   "source": [
    "# ones\n",
    "np.ones(2)"
   ]
  },
  {
   "cell_type": "code",
   "execution_count": 23,
   "id": "79bb9eca",
   "metadata": {
    "hidden": true
   },
   "outputs": [
    {
     "data": {
      "text/plain": [
       "array([1., 1., 1., 1., 1., 1., 1., 1., 1., 1.])"
      ]
     },
     "execution_count": 23,
     "metadata": {},
     "output_type": "execute_result"
    }
   ],
   "source": [
    "np.ones(10)"
   ]
  },
  {
   "cell_type": "code",
   "execution_count": 24,
   "id": "cbe74301",
   "metadata": {
    "hidden": true
   },
   "outputs": [
    {
     "name": "stdout",
     "output_type": "stream",
     "text": [
      "[[1 1 1]\n",
      " [1 1 1]\n",
      " [1 1 1]\n",
      " [1 1 1]\n",
      " [1 1 1]]\n"
     ]
    }
   ],
   "source": [
    "c=np.ones((5,3),dtype=\"int64\")\n",
    "print(c)"
   ]
  },
  {
   "cell_type": "code",
   "execution_count": 25,
   "id": "175dac4e",
   "metadata": {
    "hidden": true
   },
   "outputs": [
    {
     "name": "stdout",
     "output_type": "stream",
     "text": [
      "[[1 1]\n",
      " [1 1]\n",
      " [1 1]]\n",
      "ones like:int64\n"
     ]
    }
   ],
   "source": [
    "b=np.ones_like(a)\n",
    "print(b)\n",
    "print(\"ones like:\"+str(b.dtype))"
   ]
  },
  {
   "cell_type": "code",
   "execution_count": 26,
   "id": "0493d2d4",
   "metadata": {
    "hidden": true
   },
   "outputs": [
    {
     "data": {
      "text/plain": [
       "array([0., 0., 0., 0., 0.])"
      ]
     },
     "execution_count": 26,
     "metadata": {},
     "output_type": "execute_result"
    }
   ],
   "source": [
    "# empty\n",
    "np.empty(5)"
   ]
  },
  {
   "cell_type": "code",
   "execution_count": 27,
   "id": "ad494886",
   "metadata": {
    "hidden": true
   },
   "outputs": [
    {
     "data": {
      "text/plain": [
       "array([[0., 0., 0., 0.],\n",
       "       [0., 0., 0., 0.],\n",
       "       [0., 0., 0., 0.],\n",
       "       [0., 0., 0., 0.]])"
      ]
     },
     "execution_count": 27,
     "metadata": {},
     "output_type": "execute_result"
    }
   ],
   "source": [
    "np.empty((4,4))"
   ]
  },
  {
   "cell_type": "code",
   "execution_count": 28,
   "id": "6209b28c",
   "metadata": {
    "hidden": true
   },
   "outputs": [
    {
     "data": {
      "text/plain": [
       "array([[94577623948082,              0],\n",
       "       [             0,              0],\n",
       "       [             0,              0]])"
      ]
     },
     "execution_count": 28,
     "metadata": {},
     "output_type": "execute_result"
    }
   ],
   "source": [
    "np.empty_like(a)"
   ]
  },
  {
   "cell_type": "code",
   "execution_count": 29,
   "id": "9150ccf5",
   "metadata": {
    "hidden": true
   },
   "outputs": [
    {
     "data": {
      "text/plain": [
       "array([[5, 5, 5, 5],\n",
       "       [5, 5, 5, 5],\n",
       "       [5, 5, 5, 5],\n",
       "       [5, 5, 5, 5]])"
      ]
     },
     "execution_count": 29,
     "metadata": {},
     "output_type": "execute_result"
    }
   ],
   "source": [
    "# full\n",
    "np.full((4,4),5)"
   ]
  },
  {
   "cell_type": "code",
   "execution_count": 30,
   "id": "10618d96",
   "metadata": {
    "hidden": true
   },
   "outputs": [
    {
     "data": {
      "text/plain": [
       "array([[3, 3],\n",
       "       [3, 3],\n",
       "       [3, 3]])"
      ]
     },
     "execution_count": 30,
     "metadata": {},
     "output_type": "execute_result"
    }
   ],
   "source": [
    "np.full_like(a,3)"
   ]
  },
  {
   "cell_type": "code",
   "execution_count": 31,
   "id": "94d5a02c",
   "metadata": {
    "hidden": true
   },
   "outputs": [
    {
     "data": {
      "text/plain": [
       "array([[3, 5],\n",
       "       [3, 5],\n",
       "       [3, 5],\n",
       "       [9, 7],\n",
       "       [9, 7],\n",
       "       [9, 7],\n",
       "       [3, 2],\n",
       "       [3, 2],\n",
       "       [3, 2]])"
      ]
     },
     "execution_count": 31,
     "metadata": {},
     "output_type": "execute_result"
    }
   ],
   "source": [
    "#repeat\n",
    "np.repeat(a,3,axis=0)"
   ]
  },
  {
   "cell_type": "code",
   "execution_count": 32,
   "id": "3edda758",
   "metadata": {
    "hidden": true
   },
   "outputs": [
    {
     "data": {
      "text/plain": [
       "array([[3, 3, 3, 3, 5, 5, 5, 5],\n",
       "       [9, 9, 9, 9, 7, 7, 7, 7],\n",
       "       [3, 3, 3, 3, 2, 2, 2, 2]])"
      ]
     },
     "execution_count": 32,
     "metadata": {},
     "output_type": "execute_result"
    }
   ],
   "source": [
    "np.repeat(a,4,axis=1)"
   ]
  },
  {
   "cell_type": "code",
   "execution_count": 33,
   "id": "8c381e9f",
   "metadata": {
    "hidden": true
   },
   "outputs": [
    {
     "data": {
      "text/plain": [
       "array([[3, 5, 3, 5],\n",
       "       [9, 7, 9, 7],\n",
       "       [3, 2, 3, 2]])"
      ]
     },
     "execution_count": 33,
     "metadata": {},
     "output_type": "execute_result"
    }
   ],
   "source": [
    "#tile\n",
    "np.tile(a,2)"
   ]
  },
  {
   "cell_type": "code",
   "execution_count": 34,
   "id": "fea5e39a",
   "metadata": {
    "hidden": true
   },
   "outputs": [
    {
     "data": {
      "text/plain": [
       "array([[3, 5, 3, 5, 3, 5],\n",
       "       [9, 7, 9, 7, 9, 7],\n",
       "       [3, 2, 3, 2, 3, 2],\n",
       "       [3, 5, 3, 5, 3, 5],\n",
       "       [9, 7, 9, 7, 9, 7],\n",
       "       [3, 2, 3, 2, 3, 2],\n",
       "       [3, 5, 3, 5, 3, 5],\n",
       "       [9, 7, 9, 7, 9, 7],\n",
       "       [3, 2, 3, 2, 3, 2]])"
      ]
     },
     "execution_count": 34,
     "metadata": {},
     "output_type": "execute_result"
    }
   ],
   "source": [
    "np.tile(a,(3,3))"
   ]
  },
  {
   "cell_type": "code",
   "execution_count": 35,
   "id": "bf69d08d",
   "metadata": {
    "hidden": true
   },
   "outputs": [
    {
     "data": {
      "text/plain": [
       "array([[1., 0., 0., 0., 0.],\n",
       "       [0., 1., 0., 0., 0.],\n",
       "       [0., 0., 1., 0., 0.],\n",
       "       [0., 0., 0., 1., 0.],\n",
       "       [0., 0., 0., 0., 1.]])"
      ]
     },
     "execution_count": 35,
     "metadata": {},
     "output_type": "execute_result"
    }
   ],
   "source": [
    "#eye\n",
    "np.eye(5)"
   ]
  },
  {
   "cell_type": "code",
   "execution_count": 36,
   "id": "6cb29f76",
   "metadata": {
    "hidden": true
   },
   "outputs": [
    {
     "data": {
      "text/plain": [
       "array([[0., 0., 0., 0., 0., 0.],\n",
       "       [0., 0., 0., 0., 0., 0.],\n",
       "       [1., 0., 0., 0., 0., 0.],\n",
       "       [0., 1., 0., 0., 0., 0.],\n",
       "       [0., 0., 1., 0., 0., 0.],\n",
       "       [0., 0., 0., 1., 0., 0.]])"
      ]
     },
     "execution_count": 36,
     "metadata": {},
     "output_type": "execute_result"
    }
   ],
   "source": [
    "np.eye(6,k=-2)"
   ]
  },
  {
   "cell_type": "code",
   "execution_count": 37,
   "id": "f5cad50b",
   "metadata": {
    "hidden": true
   },
   "outputs": [
    {
     "data": {
      "text/plain": [
       "array([[1., 0., 0.],\n",
       "       [0., 1., 0.],\n",
       "       [0., 0., 1.]])"
      ]
     },
     "execution_count": 37,
     "metadata": {},
     "output_type": "execute_result"
    }
   ],
   "source": [
    "np.identity(3)"
   ]
  },
  {
   "cell_type": "code",
   "execution_count": 38,
   "id": "5123bdec",
   "metadata": {
    "hidden": true
   },
   "outputs": [
    {
     "data": {
      "text/plain": [
       "array([[13, 29, 17],\n",
       "       [25, 26, 20],\n",
       "       [25, 11, 15]])"
      ]
     },
     "execution_count": 38,
     "metadata": {},
     "output_type": "execute_result"
    }
   ],
   "source": [
    "#diag\n",
    "c=np.random.randint(10,30,(3,3))\n",
    "c"
   ]
  },
  {
   "cell_type": "code",
   "execution_count": 39,
   "id": "a4318f9a",
   "metadata": {
    "hidden": true
   },
   "outputs": [
    {
     "data": {
      "text/plain": [
       "array([13, 26, 15])"
      ]
     },
     "execution_count": 39,
     "metadata": {},
     "output_type": "execute_result"
    }
   ],
   "source": [
    "np.diag(c)"
   ]
  },
  {
   "cell_type": "code",
   "execution_count": 40,
   "id": "2ba9cde5",
   "metadata": {
    "hidden": true
   },
   "outputs": [
    {
     "data": {
      "text/plain": [
       "54"
      ]
     },
     "execution_count": 40,
     "metadata": {},
     "output_type": "execute_result"
    }
   ],
   "source": [
    "np.trace(c)"
   ]
  },
  {
   "cell_type": "code",
   "execution_count": 41,
   "id": "c56cb646",
   "metadata": {
    "hidden": true
   },
   "outputs": [],
   "source": [
    "list_1 = [3, 6, 7, 5]\n",
    "list_2 = [4, 5, 1, 7]"
   ]
  },
  {
   "cell_type": "code",
   "execution_count": 42,
   "id": "b996196e",
   "metadata": {
    "hidden": true
   },
   "outputs": [
    {
     "data": {
      "text/plain": [
       "[12, 30, 7, 35]"
      ]
     },
     "execution_count": 42,
     "metadata": {},
     "output_type": "execute_result"
    }
   ],
   "source": [
    "#list product\n",
    "list_product=list(map(lambda x,y:x*y,list_1,list_2))\n",
    "list_product"
   ]
  },
  {
   "cell_type": "code",
   "execution_count": 43,
   "id": "b882ba65",
   "metadata": {
    "hidden": true
   },
   "outputs": [],
   "source": [
    "arr_1=np.array(list_1)\n",
    "arr_2=np.array(list_2)"
   ]
  },
  {
   "cell_type": "code",
   "execution_count": 44,
   "id": "925720ed",
   "metadata": {
    "hidden": true
   },
   "outputs": [
    {
     "data": {
      "text/plain": [
       "array([12, 30,  7, 35])"
      ]
     },
     "execution_count": 44,
     "metadata": {},
     "output_type": "execute_result"
    }
   ],
   "source": [
    "# array product\n",
    "arr_product=arr_1*arr_2\n",
    "arr_product"
   ]
  },
  {
   "cell_type": "code",
   "execution_count": 45,
   "id": "cf45700b",
   "metadata": {
    "hidden": true
   },
   "outputs": [
    {
     "data": {
      "text/plain": [
       "[9, 36, 49, 25]"
      ]
     },
     "execution_count": 45,
     "metadata": {},
     "output_type": "execute_result"
    }
   ],
   "source": [
    "list_square=[i**2 for i in list_1]\n",
    "list_square"
   ]
  },
  {
   "cell_type": "code",
   "execution_count": 46,
   "id": "76416ef3",
   "metadata": {
    "hidden": true
   },
   "outputs": [
    {
     "data": {
      "text/plain": [
       "array([ 9, 36, 49, 25])"
      ]
     },
     "execution_count": 46,
     "metadata": {},
     "output_type": "execute_result"
    }
   ],
   "source": [
    "arr_square=arr_1**2\n",
    "arr_square"
   ]
  },
  {
   "cell_type": "code",
   "execution_count": 47,
   "id": "42b663e4",
   "metadata": {
    "hidden": true
   },
   "outputs": [],
   "source": [
    "list_11=[i for i in range(10000000) ]\n",
    "list_22=[j**2 for j in range(10000000)]"
   ]
  },
  {
   "cell_type": "code",
   "execution_count": 48,
   "id": "b06dba93",
   "metadata": {
    "hidden": true
   },
   "outputs": [
    {
     "name": "stdout",
     "output_type": "stream",
     "text": [
      "1.4701833724975586\n"
     ]
    }
   ],
   "source": [
    "t0=time.time()\n",
    "list_p=list(map(lambda x,y:x*y,list_11,list_22))\n",
    "t1=time.time()\n",
    "tt=t1-t0\n",
    "print(tt)"
   ]
  },
  {
   "cell_type": "code",
   "execution_count": 49,
   "id": "6140babd",
   "metadata": {
    "hidden": true
   },
   "outputs": [
    {
     "name": "stdout",
     "output_type": "stream",
     "text": [
      "0.02044057846069336\n"
     ]
    }
   ],
   "source": [
    "ar1=np.array(list_11)\n",
    "ar2=np.array(list_22)\n",
    "t0=time.time()\n",
    "array_p=ar1*ar2\n",
    "t1=time.time()\n",
    "ttt=t1-t0\n",
    "print(ttt)"
   ]
  },
  {
   "cell_type": "code",
   "execution_count": 50,
   "id": "71746aea",
   "metadata": {
    "hidden": true
   },
   "outputs": [
    {
     "name": "stdout",
     "output_type": "stream",
     "text": [
      "ratio of time taken: 71.92474397555229\n"
     ]
    }
   ],
   "source": [
    "print(\"ratio of time taken:\",tt/ttt)"
   ]
  },
  {
   "cell_type": "markdown",
   "id": "9babd397",
   "metadata": {
    "heading_collapsed": true,
    "jp-MarkdownHeadingCollapsed": true,
    "tags": []
   },
   "source": [
    "## Data Types in NumPy\n",
    "Numpy has the following data types:\n",
    "\n",
    "    int\n",
    "    float\n",
    "    complex\n",
    "    bool\n",
    "    string\n",
    "    unicode\n",
    "    object"
   ]
  },
  {
   "cell_type": "code",
   "execution_count": 51,
   "id": "dbeecd10",
   "metadata": {
    "hidden": true
   },
   "outputs": [
    {
     "data": {
      "text/html": [
       "<div>\n",
       "<style scoped>\n",
       "    .dataframe tbody tr th:only-of-type {\n",
       "        vertical-align: middle;\n",
       "    }\n",
       "\n",
       "    .dataframe tbody tr th {\n",
       "        vertical-align: top;\n",
       "    }\n",
       "\n",
       "    .dataframe thead th {\n",
       "        text-align: right;\n",
       "    }\n",
       "</style>\n",
       "<table border=\"1\" class=\"dataframe\">\n",
       "  <thead>\n",
       "    <tr style=\"text-align: right;\">\n",
       "      <th></th>\n",
       "      <th>Type</th>\n",
       "      <th>Type Code</th>\n",
       "    </tr>\n",
       "  </thead>\n",
       "  <tbody>\n",
       "    <tr>\n",
       "      <th>0</th>\n",
       "      <td>int8</td>\n",
       "      <td>i1</td>\n",
       "    </tr>\n",
       "    <tr>\n",
       "      <th>1</th>\n",
       "      <td>uint8</td>\n",
       "      <td>u1</td>\n",
       "    </tr>\n",
       "    <tr>\n",
       "      <th>2</th>\n",
       "      <td>int16</td>\n",
       "      <td>i2</td>\n",
       "    </tr>\n",
       "    <tr>\n",
       "      <th>3</th>\n",
       "      <td>uint16</td>\n",
       "      <td>u2</td>\n",
       "    </tr>\n",
       "    <tr>\n",
       "      <th>4</th>\n",
       "      <td>int or int32</td>\n",
       "      <td>i4 or i</td>\n",
       "    </tr>\n",
       "    <tr>\n",
       "      <th>5</th>\n",
       "      <td>uint32</td>\n",
       "      <td>u4</td>\n",
       "    </tr>\n",
       "    <tr>\n",
       "      <th>6</th>\n",
       "      <td>int64</td>\n",
       "      <td>i8</td>\n",
       "    </tr>\n",
       "    <tr>\n",
       "      <th>7</th>\n",
       "      <td>uint64</td>\n",
       "      <td>u8</td>\n",
       "    </tr>\n",
       "    <tr>\n",
       "      <th>8</th>\n",
       "      <td>float16</td>\n",
       "      <td>f2</td>\n",
       "    </tr>\n",
       "    <tr>\n",
       "      <th>9</th>\n",
       "      <td>float32</td>\n",
       "      <td>f4 or f</td>\n",
       "    </tr>\n",
       "    <tr>\n",
       "      <th>10</th>\n",
       "      <td>float or float64</td>\n",
       "      <td>f8 or d</td>\n",
       "    </tr>\n",
       "    <tr>\n",
       "      <th>11</th>\n",
       "      <td>float128</td>\n",
       "      <td>f16 or g</td>\n",
       "    </tr>\n",
       "    <tr>\n",
       "      <th>12</th>\n",
       "      <td>complex64</td>\n",
       "      <td>c8</td>\n",
       "    </tr>\n",
       "    <tr>\n",
       "      <th>13</th>\n",
       "      <td>complex or complex128</td>\n",
       "      <td>c16</td>\n",
       "    </tr>\n",
       "    <tr>\n",
       "      <th>14</th>\n",
       "      <td>bool</td>\n",
       "      <td>None</td>\n",
       "    </tr>\n",
       "    <tr>\n",
       "      <th>15</th>\n",
       "      <td>object</td>\n",
       "      <td>O</td>\n",
       "    </tr>\n",
       "    <tr>\n",
       "      <th>16</th>\n",
       "      <td>string_</td>\n",
       "      <td>S</td>\n",
       "    </tr>\n",
       "    <tr>\n",
       "      <th>17</th>\n",
       "      <td>unicode_</td>\n",
       "      <td>U</td>\n",
       "    </tr>\n",
       "  </tbody>\n",
       "</table>\n",
       "</div>"
      ],
      "text/plain": [
       "                     Type Type Code\n",
       "0                    int8        i1\n",
       "1                   uint8        u1\n",
       "2                   int16        i2\n",
       "3                  uint16        u2\n",
       "4            int or int32   i4 or i\n",
       "5                  uint32        u4\n",
       "6                   int64        i8\n",
       "7                  uint64        u8\n",
       "8                 float16        f2\n",
       "9                 float32   f4 or f\n",
       "10       float or float64   f8 or d\n",
       "11               float128  f16 or g\n",
       "12              complex64        c8\n",
       "13  complex or complex128       c16\n",
       "14                   bool      None\n",
       "15                 object         O\n",
       "16                string_         S\n",
       "17               unicode_         U"
      ]
     },
     "execution_count": 51,
     "metadata": {},
     "output_type": "execute_result"
    }
   ],
   "source": [
    "dtypes = pd.DataFrame(\n",
    "    {\n",
    "        'Type': [\n",
    "            'int8', \n",
    "            'uint8', \n",
    "            'int16', \n",
    "            'uint16', \n",
    "            'int or int32', \n",
    "            'uint32', \n",
    "            'int64', \n",
    "            'uint64', \n",
    "            'float16', \n",
    "            'float32', \n",
    "            'float or float64',\n",
    "            'float128', \n",
    "            'complex64', \n",
    "            'complex or complex128', \n",
    "            'bool', \n",
    "            'object', \n",
    "            'string_',\n",
    "            'unicode_',\n",
    "        ],\n",
    "        \n",
    "        'Type Code': [\n",
    "            'i1', \n",
    "            'u1', \n",
    "            'i2', \n",
    "            'u2', \n",
    "            'i4 or i', \n",
    "            'u4', \n",
    "            'i8', \n",
    "            'u8', \n",
    "            'f2', \n",
    "            'f4 or f', \n",
    "            'f8 or d', \n",
    "            'f16 or g', \n",
    "            'c8', \n",
    "            'c16', \n",
    "            None, \n",
    "            'O', \n",
    "            'S', \n",
    "            'U',\n",
    "        ]\n",
    "    }\n",
    ")\n",
    "\n",
    "dtypes"
   ]
  },
  {
   "cell_type": "markdown",
   "id": "76d31e5e",
   "metadata": {
    "heading_collapsed": true,
    "jp-MarkdownHeadingCollapsed": true,
    "tags": []
   },
   "source": [
    "## Inspect an Array\n",
    "    shape\n",
    "    size\n",
    "    info\n",
    "    dtype\n",
    "    len\n",
    "    ndim\n",
    "    itemsize\n",
    "    nbytes"
   ]
  },
  {
   "cell_type": "code",
   "execution_count": 52,
   "id": "2a41f541",
   "metadata": {
    "hidden": true
   },
   "outputs": [
    {
     "data": {
      "text/plain": [
       "array([[95, 85, 96, 16, 32],\n",
       "       [62, 50, 12, 44, 12],\n",
       "       [67, 67, 71, 65, 41],\n",
       "       [29, 81, 88, 91, 35],\n",
       "       [40, 63, 27, 48, 13]])"
      ]
     },
     "execution_count": 52,
     "metadata": {},
     "output_type": "execute_result"
    }
   ],
   "source": [
    "e=np.random.randint(10,100,(5,5))\n",
    "e"
   ]
  },
  {
   "cell_type": "code",
   "execution_count": 53,
   "id": "0a02ca7c",
   "metadata": {
    "hidden": true
   },
   "outputs": [
    {
     "data": {
      "text/plain": [
       "(5, 5)"
      ]
     },
     "execution_count": 53,
     "metadata": {},
     "output_type": "execute_result"
    }
   ],
   "source": [
    "e.shape"
   ]
  },
  {
   "cell_type": "code",
   "execution_count": 54,
   "id": "a0498f43",
   "metadata": {
    "hidden": true
   },
   "outputs": [
    {
     "data": {
      "text/plain": [
       "25"
      ]
     },
     "execution_count": 54,
     "metadata": {},
     "output_type": "execute_result"
    }
   ],
   "source": [
    "e.size"
   ]
  },
  {
   "cell_type": "code",
   "execution_count": 55,
   "id": "c90be252",
   "metadata": {
    "hidden": true
   },
   "outputs": [
    {
     "data": {
      "text/plain": [
       "5"
      ]
     },
     "execution_count": 55,
     "metadata": {},
     "output_type": "execute_result"
    }
   ],
   "source": [
    "len(e)"
   ]
  },
  {
   "cell_type": "code",
   "execution_count": 56,
   "id": "dd69ae81",
   "metadata": {
    "hidden": true
   },
   "outputs": [
    {
     "name": "stdout",
     "output_type": "stream",
     "text": [
      "class:  ndarray\n",
      "shape:  (5, 5)\n",
      "strides:  (40, 8)\n",
      "itemsize:  8\n",
      "aligned:  True\n",
      "contiguous:  True\n",
      "fortran:  False\n",
      "data pointer: 0x5601f0c1fba0\n",
      "byteorder:  little\n",
      "byteswap:  False\n",
      "type: int64\n"
     ]
    }
   ],
   "source": [
    "np.info(e)"
   ]
  },
  {
   "cell_type": "code",
   "execution_count": 57,
   "id": "f864571c",
   "metadata": {
    "hidden": true
   },
   "outputs": [
    {
     "data": {
      "text/plain": [
       "2"
      ]
     },
     "execution_count": 57,
     "metadata": {},
     "output_type": "execute_result"
    }
   ],
   "source": [
    "e.ndim"
   ]
  },
  {
   "cell_type": "code",
   "execution_count": 58,
   "id": "00f15184",
   "metadata": {
    "hidden": true
   },
   "outputs": [
    {
     "data": {
      "text/plain": [
       "dtype('int64')"
      ]
     },
     "execution_count": 58,
     "metadata": {},
     "output_type": "execute_result"
    }
   ],
   "source": [
    "e.dtype"
   ]
  },
  {
   "cell_type": "code",
   "execution_count": 59,
   "id": "97445880",
   "metadata": {
    "hidden": true
   },
   "outputs": [
    {
     "data": {
      "text/plain": [
       "8"
      ]
     },
     "execution_count": 59,
     "metadata": {},
     "output_type": "execute_result"
    }
   ],
   "source": [
    "e.itemsize"
   ]
  },
  {
   "cell_type": "code",
   "execution_count": 60,
   "id": "a9e82563",
   "metadata": {
    "hidden": true
   },
   "outputs": [
    {
     "data": {
      "text/plain": [
       "200"
      ]
     },
     "execution_count": 60,
     "metadata": {},
     "output_type": "execute_result"
    }
   ],
   "source": [
    "e.nbytes"
   ]
  },
  {
   "cell_type": "markdown",
   "id": "03757bd0",
   "metadata": {
    "heading_collapsed": true,
    "jp-MarkdownHeadingCollapsed": true,
    "tags": []
   },
   "source": [
    "## NumPy Random Array\n",
    "    np.random.rand()\n",
    "    np.random.randn()\n",
    "    np.random.randint()\n",
    "    np.random.ranf()\n",
    "    np.random.random_sample()\n",
    "    np.random.sample()\n",
    "    np.random.choice(iterable_or_int, size, replace=True, p=weights)\n",
    "    np.random.shuffle()\n",
    "    np.random.permutation()"
   ]
  },
  {
   "cell_type": "code",
   "execution_count": 61,
   "id": "27fa56aa",
   "metadata": {
    "hidden": true
   },
   "outputs": [
    {
     "data": {
      "text/plain": [
       "array([0.62878077, 0.80435478, 0.4985463 , 0.28270716, 0.57019386])"
      ]
     },
     "execution_count": 61,
     "metadata": {},
     "output_type": "execute_result"
    }
   ],
   "source": [
    "np.random.rand(5)"
   ]
  },
  {
   "cell_type": "code",
   "execution_count": 62,
   "id": "e0c7f5c3",
   "metadata": {
    "hidden": true
   },
   "outputs": [
    {
     "data": {
      "text/plain": [
       "array([[0.91836156, 0.64618269, 0.46783679],\n",
       "       [0.04007061, 0.10164747, 0.55806213],\n",
       "       [0.15065532, 0.26522377, 0.11696524]])"
      ]
     },
     "execution_count": 62,
     "metadata": {},
     "output_type": "execute_result"
    }
   ],
   "source": [
    "np.random.rand(3,3)"
   ]
  },
  {
   "cell_type": "code",
   "execution_count": 63,
   "id": "da749801",
   "metadata": {
    "hidden": true
   },
   "outputs": [
    {
     "data": {
      "text/plain": [
       "0.443636086957671"
      ]
     },
     "execution_count": 63,
     "metadata": {},
     "output_type": "execute_result"
    }
   ],
   "source": [
    "np.random.rand()"
   ]
  },
  {
   "cell_type": "code",
   "execution_count": 64,
   "id": "9070d9d6",
   "metadata": {
    "hidden": true
   },
   "outputs": [
    {
     "data": {
      "text/plain": [
       "array([[ 0.03737826,  0.19778698, -1.30885795],\n",
       "       [ 0.33403107, -2.40786153,  0.24405654],\n",
       "       [-0.12896344,  0.0983282 , -0.55910248]])"
      ]
     },
     "execution_count": 64,
     "metadata": {},
     "output_type": "execute_result"
    }
   ],
   "source": [
    "np.random.randn(3,3)"
   ]
  },
  {
   "cell_type": "code",
   "execution_count": 65,
   "id": "efe99503",
   "metadata": {
    "hidden": true
   },
   "outputs": [
    {
     "data": {
      "text/plain": [
       "array([10, 18, 19, 11, 15, 18, 12, 15, 17, 10, 12, 17, 16, 14, 19])"
      ]
     },
     "execution_count": 65,
     "metadata": {},
     "output_type": "execute_result"
    }
   ],
   "source": [
    "np.random.randint(10,20,15)"
   ]
  },
  {
   "cell_type": "code",
   "execution_count": 66,
   "id": "d8bd75e1",
   "metadata": {
    "hidden": true
   },
   "outputs": [
    {
     "data": {
      "text/plain": [
       "array([[10, 18, 12],\n",
       "       [19, 19, 13],\n",
       "       [14, 12, 19]])"
      ]
     },
     "execution_count": 66,
     "metadata": {},
     "output_type": "execute_result"
    }
   ],
   "source": [
    "np.random.randint(10,20,(3,3))"
   ]
  },
  {
   "cell_type": "code",
   "execution_count": 67,
   "id": "8012efdd",
   "metadata": {
    "hidden": true
   },
   "outputs": [
    {
     "data": {
      "text/plain": [
       "array([0.50137964, 0.58339705, 0.26056787, 0.06654666, 0.02118088,\n",
       "       0.40459109, 0.02971537, 0.06675823, 0.20902512, 0.7005901 ])"
      ]
     },
     "execution_count": 67,
     "metadata": {},
     "output_type": "execute_result"
    }
   ],
   "source": [
    "np.random.ranf(10)"
   ]
  },
  {
   "cell_type": "code",
   "execution_count": 68,
   "id": "33b02947",
   "metadata": {
    "hidden": true
   },
   "outputs": [
    {
     "data": {
      "text/plain": [
       "array([0.3611449 , 0.25055405, 0.98591931, 0.19519881, 0.227657  ,\n",
       "       0.23870304, 0.50949496, 0.40253529, 0.28628334, 0.95075118])"
      ]
     },
     "execution_count": 68,
     "metadata": {},
     "output_type": "execute_result"
    }
   ],
   "source": [
    "np.random.sample(10)"
   ]
  },
  {
   "cell_type": "code",
   "execution_count": 69,
   "id": "bc90f39e",
   "metadata": {
    "hidden": true
   },
   "outputs": [
    {
     "data": {
      "text/plain": [
       "array([0.06965823, 0.61712227, 0.79501187, 0.21625376, 0.98808214,\n",
       "       0.60472146, 0.43275553, 0.3905142 , 0.22327145, 0.99087074])"
      ]
     },
     "execution_count": 69,
     "metadata": {},
     "output_type": "execute_result"
    }
   ],
   "source": [
    "np.random.random_sample(10)"
   ]
  },
  {
   "cell_type": "code",
   "execution_count": 70,
   "id": "e17a1507",
   "metadata": {
    "hidden": true
   },
   "outputs": [
    {
     "data": {
      "text/plain": [
       "array([2, 1, 2, 1, 1, 4, 1, 1, 4, 2, 1, 4, 4, 0, 2])"
      ]
     },
     "execution_count": 70,
     "metadata": {},
     "output_type": "execute_result"
    }
   ],
   "source": [
    "g=np.random.choice(5,15)\n",
    "g"
   ]
  },
  {
   "cell_type": "code",
   "execution_count": 71,
   "id": "aaa758cb",
   "metadata": {
    "hidden": true
   },
   "outputs": [
    {
     "data": {
      "text/plain": [
       "array([[4, 3, 0, 2],\n",
       "       [2, 3, 3, 1],\n",
       "       [4, 2, 2, 2],\n",
       "       [1, 3, 2, 3]])"
      ]
     },
     "execution_count": 71,
     "metadata": {},
     "output_type": "execute_result"
    }
   ],
   "source": [
    "np.random.choice(5,(4,4))"
   ]
  },
  {
   "cell_type": "code",
   "execution_count": 72,
   "id": "bb7970e6",
   "metadata": {
    "hidden": true
   },
   "outputs": [
    {
     "data": {
      "text/plain": [
       "array([[4, 6, 4],\n",
       "       [6, 6, 6],\n",
       "       [6, 4, 4]])"
      ]
     },
     "execution_count": 72,
     "metadata": {},
     "output_type": "execute_result"
    }
   ],
   "source": [
    "np.random.choice([5,6,4],(3,3))"
   ]
  },
  {
   "cell_type": "code",
   "execution_count": 73,
   "id": "e3cfd314",
   "metadata": {
    "hidden": true
   },
   "outputs": [
    {
     "data": {
      "text/plain": [
       "array([[4, 3, 4, 7, 4, 8],\n",
       "       [8, 2, 1, 6, 5, 7],\n",
       "       [5, 6, 5, 9, 2, 1],\n",
       "       [7, 8, 1, 5, 6, 3],\n",
       "       [8, 3, 1, 0, 9, 2],\n",
       "       [4, 3, 2, 0, 9, 4]])"
      ]
     },
     "execution_count": 73,
     "metadata": {},
     "output_type": "execute_result"
    }
   ],
   "source": [
    "f=np.random.choice(range(10),(6,6))\n",
    "f"
   ]
  },
  {
   "cell_type": "code",
   "execution_count": 74,
   "id": "ecea9bf1",
   "metadata": {
    "hidden": true
   },
   "outputs": [],
   "source": [
    "f=np.random.shuffle(f)\n",
    "f"
   ]
  },
  {
   "cell_type": "code",
   "execution_count": 75,
   "id": "cb40494d",
   "metadata": {
    "hidden": true
   },
   "outputs": [
    {
     "data": {
      "text/plain": [
       "array([4, 1, 1, 0, 1, 1, 4, 2, 1, 2, 1, 2, 4, 4, 2])"
      ]
     },
     "execution_count": 75,
     "metadata": {},
     "output_type": "execute_result"
    }
   ],
   "source": [
    "np.random.permutation(g)"
   ]
  },
  {
   "cell_type": "markdown",
   "id": "5a4c810d",
   "metadata": {
    "jp-MarkdownHeadingCollapsed": true,
    "tags": []
   },
   "source": [
    "## NumPy Math Functions\n",
    "    Element-wise addition, subtraction, multiplication and division\n",
    "    +,-,*,/\n",
    "    add,subtract,multiply\n",
    "    exp,log,log2,log10,sqrt,sin,cos\n",
    "    \n",
    "    axis based operations\n",
    "        sum,min,max,argmin,argmax,mean,median,std,var,corr,corrcoef,cov,cumsum,cumprod\n",
    "    percentile\n",
    "    re, intg = np.modf(arr1)\n",
    "    Compute element-wise min and max of two arrays\n",
    "        minimum,maximum\n",
    "    Split fractional and integral parts of a floating-point arrays\n",
    "    \n",
    "    Element-wise comparison"
   ]
  },
  {
   "cell_type": "code",
   "execution_count": 76,
   "id": "a62d5db7",
   "metadata": {},
   "outputs": [],
   "source": [
    "x=np.random.randint(10,50,6)\n",
    "y=np.random.randint(10,20,6)"
   ]
  },
  {
   "cell_type": "code",
   "execution_count": 77,
   "id": "279f3348",
   "metadata": {},
   "outputs": [
    {
     "name": "stdout",
     "output_type": "stream",
     "text": [
      "x: [30 28 16 33 39 22]\n",
      "y: [18 12 14 18 13 15]\n"
     ]
    }
   ],
   "source": [
    "print(\"x:\",x)\n",
    "print(\"y:\",y)"
   ]
  },
  {
   "cell_type": "code",
   "execution_count": 78,
   "id": "774f7897",
   "metadata": {},
   "outputs": [
    {
     "data": {
      "text/plain": [
       "array([40, 38, 26, 43, 49, 32])"
      ]
     },
     "execution_count": 78,
     "metadata": {},
     "output_type": "execute_result"
    }
   ],
   "source": [
    "x+10"
   ]
  },
  {
   "cell_type": "code",
   "execution_count": 79,
   "id": "95f4c63e",
   "metadata": {},
   "outputs": [
    {
     "data": {
      "text/plain": [
       "array([20, 18,  6, 23, 29, 12])"
      ]
     },
     "execution_count": 79,
     "metadata": {},
     "output_type": "execute_result"
    }
   ],
   "source": [
    "x-10"
   ]
  },
  {
   "cell_type": "code",
   "execution_count": 80,
   "id": "6e76d720",
   "metadata": {},
   "outputs": [
    {
     "data": {
      "text/plain": [
       "array([300, 280, 160, 330, 390, 220])"
      ]
     },
     "execution_count": 80,
     "metadata": {},
     "output_type": "execute_result"
    }
   ],
   "source": [
    "x*10"
   ]
  },
  {
   "cell_type": "code",
   "execution_count": 81,
   "id": "2dc5ffe0",
   "metadata": {},
   "outputs": [
    {
     "data": {
      "text/plain": [
       "array([3. , 2.8, 1.6, 3.3, 3.9, 2.2])"
      ]
     },
     "execution_count": 81,
     "metadata": {},
     "output_type": "execute_result"
    }
   ],
   "source": [
    "x/10"
   ]
  },
  {
   "cell_type": "code",
   "execution_count": 82,
   "id": "e3f49ebb",
   "metadata": {},
   "outputs": [
    {
     "data": {
      "text/plain": [
       "array([35, 33, 21, 38, 44, 27])"
      ]
     },
     "execution_count": 82,
     "metadata": {},
     "output_type": "execute_result"
    }
   ],
   "source": [
    "np.add(x,5,out=x)"
   ]
  },
  {
   "cell_type": "code",
   "execution_count": 83,
   "id": "30457983",
   "metadata": {},
   "outputs": [
    {
     "data": {
      "text/plain": [
       "array([29, 27, 15, 32, 38, 21])"
      ]
     },
     "execution_count": 83,
     "metadata": {},
     "output_type": "execute_result"
    }
   ],
   "source": [
    "np.subtract(x,6,out=x)"
   ]
  },
  {
   "cell_type": "code",
   "execution_count": 84,
   "id": "4c25f943",
   "metadata": {},
   "outputs": [
    {
     "data": {
      "text/plain": [
       "array([58, 54, 30, 64, 76, 42])"
      ]
     },
     "execution_count": 84,
     "metadata": {},
     "output_type": "execute_result"
    }
   ],
   "source": [
    "np.multiply(x,2,out=x)"
   ]
  },
  {
   "cell_type": "markdown",
   "id": "1de81bf4-beec-4477-a585-530850e781ca",
   "metadata": {
    "jp-MarkdownHeadingCollapsed": true,
    "tags": []
   },
   "source": [
    "## Subset, Slice, Index and Iterate through Arrays\n",
    "    Slicing arrays\n",
    "        Slicing in python means taking elements from one given index to another given index.\n",
    "\n",
    "    We pass slice instead of index like this: [start:end].\n",
    "    We can also define the step, like this: [start:end:step].\n",
    "    If we don't pass start its considered 0\n",
    "    If we don't pass end its considered length of array in that dimension\n",
    "    If we don't pass step its considered 1"
   ]
  },
  {
   "cell_type": "code",
   "execution_count": 85,
   "id": "0b81986c-25b7-42bb-9cc2-3045e3986bfc",
   "metadata": {},
   "outputs": [
    {
     "data": {
      "text/plain": [
       "array([17, 16, 14, 10, 16, 15, 18, 18, 13, 13])"
      ]
     },
     "execution_count": 85,
     "metadata": {},
     "output_type": "execute_result"
    }
   ],
   "source": [
    "# Indexing and Slicing One Dimensional Arrays\n",
    "arr=np.random.randint(10,20,10)\n",
    "arr"
   ]
  },
  {
   "cell_type": "code",
   "execution_count": 86,
   "id": "3fa7a207-f47e-43d4-9606-fcc5efeaf8de",
   "metadata": {},
   "outputs": [
    {
     "data": {
      "text/plain": [
       "17"
      ]
     },
     "execution_count": 86,
     "metadata": {},
     "output_type": "execute_result"
    }
   ],
   "source": [
    "arr[0]"
   ]
  },
  {
   "cell_type": "code",
   "execution_count": 87,
   "id": "a8290f52-e5f7-4a23-9d0e-8971d404c47f",
   "metadata": {},
   "outputs": [
    {
     "data": {
      "text/plain": [
       "array([15, 13, 14])"
      ]
     },
     "execution_count": 87,
     "metadata": {},
     "output_type": "execute_result"
    }
   ],
   "source": [
    "arr[[5,8,2]]"
   ]
  },
  {
   "cell_type": "code",
   "execution_count": 88,
   "id": "6d40bea3-f78c-443e-8518-138aa5951807",
   "metadata": {},
   "outputs": [
    {
     "data": {
      "text/plain": [
       "array([18, 18, 13, 13])"
      ]
     },
     "execution_count": 88,
     "metadata": {},
     "output_type": "execute_result"
    }
   ],
   "source": [
    "arr[6:]"
   ]
  },
  {
   "cell_type": "code",
   "execution_count": 89,
   "id": "b5b595b1-b48a-47f3-9855-98ec5f9b5b71",
   "metadata": {},
   "outputs": [
    {
     "data": {
      "text/plain": [
       "array([17, 16, 14, 10])"
      ]
     },
     "execution_count": 89,
     "metadata": {},
     "output_type": "execute_result"
    }
   ],
   "source": [
    "arr[:4]"
   ]
  },
  {
   "cell_type": "code",
   "execution_count": 90,
   "id": "0f91f87a-fbff-4b51-8f8b-31655caa99ee",
   "metadata": {},
   "outputs": [
    {
     "data": {
      "text/plain": [
       "array([15, 18, 18])"
      ]
     },
     "execution_count": 90,
     "metadata": {},
     "output_type": "execute_result"
    }
   ],
   "source": [
    "arr[5:8]"
   ]
  },
  {
   "cell_type": "code",
   "execution_count": 91,
   "id": "26f0e2c9-f562-46f3-8440-5ba952d6a8be",
   "metadata": {},
   "outputs": [
    {
     "data": {
      "text/plain": [
       "array([13])"
      ]
     },
     "execution_count": 91,
     "metadata": {},
     "output_type": "execute_result"
    }
   ],
   "source": [
    "arr[-1:]"
   ]
  },
  {
   "cell_type": "code",
   "execution_count": 92,
   "id": "2ae0abed-5e5e-4db7-8844-dc04771c6626",
   "metadata": {},
   "outputs": [
    {
     "data": {
      "text/plain": [
       "array([14, 15, 13])"
      ]
     },
     "execution_count": 92,
     "metadata": {},
     "output_type": "execute_result"
    }
   ],
   "source": [
    "arr[2:10:3]"
   ]
  },
  {
   "cell_type": "code",
   "execution_count": 93,
   "id": "7b6c66de-08b5-4c51-b358-352b53fbb934",
   "metadata": {},
   "outputs": [
    {
     "name": "stdout",
     "output_type": "stream",
     "text": [
      "289\n",
      "256\n",
      "196\n",
      "100\n",
      "256\n",
      "225\n",
      "324\n",
      "324\n",
      "169\n",
      "169\n"
     ]
    }
   ],
   "source": [
    "for i in arr:\n",
    "    print(i**2)"
   ]
  },
  {
   "cell_type": "code",
   "execution_count": 94,
   "id": "e32c4007-a31c-4850-8729-e0f8448c87e9",
   "metadata": {},
   "outputs": [
    {
     "data": {
      "text/plain": [
       "array([[ 0, 20,  4,  1],\n",
       "       [45,  8, 11,  1],\n",
       "       [48, 17, 14,  6],\n",
       "       [37, 21, 11, 42],\n",
       "       [11, 30, 27, 12]])"
      ]
     },
     "execution_count": 94,
     "metadata": {},
     "output_type": "execute_result"
    }
   ],
   "source": [
    "# Indexing and Slicing on 2-D Arrays\n",
    "z=np.random.choice(50,(5,4))\n",
    "z"
   ]
  },
  {
   "cell_type": "code",
   "execution_count": 95,
   "id": "6934f84e-b336-4bd2-9192-1dc3e8373aeb",
   "metadata": {},
   "outputs": [
    {
     "data": {
      "text/plain": [
       "array([ 0, 20,  4,  1])"
      ]
     },
     "execution_count": 95,
     "metadata": {},
     "output_type": "execute_result"
    }
   ],
   "source": [
    "z[0]"
   ]
  },
  {
   "cell_type": "code",
   "execution_count": 96,
   "id": "7aa9172a-66a9-4e77-94ca-3865fbcafa63",
   "metadata": {},
   "outputs": [
    {
     "data": {
      "text/plain": [
       "11"
      ]
     },
     "execution_count": 96,
     "metadata": {},
     "output_type": "execute_result"
    }
   ],
   "source": [
    "z[1][2]"
   ]
  },
  {
   "cell_type": "code",
   "execution_count": 97,
   "id": "166fd767-88ff-48f5-92a2-6031cecbf3cc",
   "metadata": {},
   "outputs": [
    {
     "data": {
      "text/plain": [
       "17"
      ]
     },
     "execution_count": 97,
     "metadata": {},
     "output_type": "execute_result"
    }
   ],
   "source": [
    "z[2,1]"
   ]
  },
  {
   "cell_type": "code",
   "execution_count": 98,
   "id": "1b56935c-c5a1-4042-8046-a0b678cc5e31",
   "metadata": {},
   "outputs": [
    {
     "data": {
      "text/plain": [
       "array([[ 4,  1],\n",
       "       [11,  1],\n",
       "       [14,  6],\n",
       "       [11, 42],\n",
       "       [27, 12]])"
      ]
     },
     "execution_count": 98,
     "metadata": {},
     "output_type": "execute_result"
    }
   ],
   "source": [
    "z[:,2:]"
   ]
  },
  {
   "cell_type": "code",
   "execution_count": 99,
   "id": "d7d7d4ae-5908-4aaf-bbca-8bb579cb0bc0",
   "metadata": {},
   "outputs": [
    {
     "data": {
      "text/plain": [
       "array([[ 0],\n",
       "       [45],\n",
       "       [48],\n",
       "       [37],\n",
       "       [11]])"
      ]
     },
     "execution_count": 99,
     "metadata": {},
     "output_type": "execute_result"
    }
   ],
   "source": [
    "z[:,:1]"
   ]
  },
  {
   "cell_type": "code",
   "execution_count": 100,
   "id": "3d229fd7-e8bb-497e-9550-edcbd2e61a47",
   "metadata": {},
   "outputs": [
    {
     "data": {
      "text/plain": [
       "array([[45,  8, 11,  1],\n",
       "       [48, 17, 14,  6],\n",
       "       [37, 21, 11, 42],\n",
       "       [11, 30, 27, 12]])"
      ]
     },
     "execution_count": 100,
     "metadata": {},
     "output_type": "execute_result"
    }
   ],
   "source": [
    "z[1:,:]"
   ]
  },
  {
   "cell_type": "code",
   "execution_count": 101,
   "id": "605701d5-f4d3-4e90-a4b4-370b6066da80",
   "metadata": {},
   "outputs": [
    {
     "data": {
      "text/plain": [
       "array([[20,  4,  1]])"
      ]
     },
     "execution_count": 101,
     "metadata": {},
     "output_type": "execute_result"
    }
   ],
   "source": [
    "z[:1,1:]"
   ]
  },
  {
   "cell_type": "code",
   "execution_count": 102,
   "id": "7b84ef4c-693e-4eff-bd75-7299b189ece7",
   "metadata": {},
   "outputs": [
    {
     "data": {
      "text/plain": [
       "array([[ 0, 20,  4,  1],\n",
       "       [45,  8, 11,  1],\n",
       "       [48, 17, 14,  6],\n",
       "       [37, 21, 11, 42],\n",
       "       [11, 30, 27, 12]])"
      ]
     },
     "execution_count": 102,
     "metadata": {},
     "output_type": "execute_result"
    }
   ],
   "source": [
    "z[:,:]"
   ]
  },
  {
   "cell_type": "code",
   "execution_count": 103,
   "id": "4396620a-0354-4d5a-ae16-3d02a582c61e",
   "metadata": {},
   "outputs": [
    {
     "name": "stdout",
     "output_type": "stream",
     "text": [
      "[ 0 20  4  1]\n",
      "[45  8 11  1]\n",
      "[48 17 14  6]\n",
      "[37 21 11 42]\n",
      "[11 30 27 12]\n"
     ]
    }
   ],
   "source": [
    "for i in z:\n",
    "    print(i)"
   ]
  },
  {
   "cell_type": "code",
   "execution_count": 104,
   "id": "aa1ddf88-ef14-43a0-8e77-48c10d81352d",
   "metadata": {},
   "outputs": [
    {
     "data": {
      "text/plain": [
       "array([[[ 0,  1,  2,  3],\n",
       "        [ 4,  5,  6,  7],\n",
       "        [ 8,  9, 10, 11]],\n",
       "\n",
       "       [[12, 13, 14, 15],\n",
       "        [16, 17, 18, 19],\n",
       "        [20, 21, 22, 23]]])"
      ]
     },
     "execution_count": 104,
     "metadata": {},
     "output_type": "execute_result"
    }
   ],
   "source": [
    "# 3D\n",
    "w=np.arange(24).reshape(2,3,4)\n",
    "w"
   ]
  },
  {
   "cell_type": "code",
   "execution_count": 105,
   "id": "6f72de5d-846c-47b8-bd10-518a341e942c",
   "metadata": {},
   "outputs": [
    {
     "name": "stdout",
     "output_type": "stream",
     "text": [
      "[[ 0  1  2  3]\n",
      " [ 4  5  6  7]\n",
      " [ 8  9 10 11]]\n",
      "[[12 13 14 15]\n",
      " [16 17 18 19]\n",
      " [20 21 22 23]]\n"
     ]
    }
   ],
   "source": [
    "for i in w:\n",
    "    print(i)"
   ]
  },
  {
   "cell_type": "code",
   "execution_count": 106,
   "id": "74585a2a-f377-49a6-ad69-926fff5d1f3c",
   "metadata": {},
   "outputs": [
    {
     "data": {
      "text/plain": [
       "18"
      ]
     },
     "execution_count": 106,
     "metadata": {},
     "output_type": "execute_result"
    }
   ],
   "source": [
    "w[1][1][2]"
   ]
  },
  {
   "cell_type": "code",
   "execution_count": 107,
   "id": "9dd21afe-5514-47f2-b9d0-f3cb31241b44",
   "metadata": {},
   "outputs": [
    {
     "data": {
      "text/plain": [
       "array([[ 0,  1,  2,  3,  4,  5],\n",
       "       [ 6,  7,  8,  9, 10, 11],\n",
       "       [12, 13, 14, 15, 16, 17],\n",
       "       [18, 19, 20, 21, 22, 23],\n",
       "       [24, 25, 26, 27, 28, 29],\n",
       "       [30, 31, 32, 33, 34, 35]])"
      ]
     },
     "execution_count": 107,
     "metadata": {},
     "output_type": "execute_result"
    }
   ],
   "source": [
    "#Boolean Indexing\n",
    "v=np.arange(36).reshape(6,6)\n",
    "v"
   ]
  },
  {
   "cell_type": "code",
   "execution_count": 108,
   "id": "697713ad-b022-4010-ad45-0979f2a61c51",
   "metadata": {},
   "outputs": [],
   "source": [
    "bools=np.array([True,True,False,True,False,True])"
   ]
  },
  {
   "cell_type": "code",
   "execution_count": 109,
   "id": "2aabeb41-db13-499e-a511-99f7738a0cc7",
   "metadata": {},
   "outputs": [
    {
     "data": {
      "text/plain": [
       "array([[ 0,  1,  2,  3,  4,  5],\n",
       "       [ 6,  7,  8,  9, 10, 11],\n",
       "       [18, 19, 20, 21, 22, 23],\n",
       "       [30, 31, 32, 33, 34, 35]])"
      ]
     },
     "execution_count": 109,
     "metadata": {},
     "output_type": "execute_result"
    }
   ],
   "source": [
    "v[bools]"
   ]
  },
  {
   "cell_type": "code",
   "execution_count": 110,
   "id": "07511380-8627-43e9-9e20-d81d45844613",
   "metadata": {},
   "outputs": [
    {
     "data": {
      "text/plain": [
       "array([[12, 13, 14, 15, 16, 17],\n",
       "       [24, 25, 26, 27, 28, 29]])"
      ]
     },
     "execution_count": 110,
     "metadata": {},
     "output_type": "execute_result"
    }
   ],
   "source": [
    "v[~bools]"
   ]
  },
  {
   "cell_type": "code",
   "execution_count": 111,
   "id": "82b25267-a5e9-4d6c-8e44-e0beded7890e",
   "metadata": {},
   "outputs": [
    {
     "data": {
      "text/plain": [
       "array([[ 0,  1,  2,  3,  4],\n",
       "       [ 5,  6,  7,  8,  9],\n",
       "       [10, 11, 12, 13, 14],\n",
       "       [15, 16, 17, 18, 19],\n",
       "       [20, 21, 22, 23, 24]])"
      ]
     },
     "execution_count": 111,
     "metadata": {},
     "output_type": "execute_result"
    }
   ],
   "source": [
    "# Find elements/indices by conditions\n",
    "u=np.arange(25).reshape(5,5)\n",
    "u"
   ]
  },
  {
   "cell_type": "code",
   "execution_count": 112,
   "id": "72172ea1-04f2-42ce-b82f-7bfbddd886d7",
   "metadata": {},
   "outputs": [
    {
     "data": {
      "text/plain": [
       "array([ 6,  7,  8,  9, 10, 11, 12, 13, 14, 15, 16, 17, 18, 19, 20, 21, 22,\n",
       "       23, 24])"
      ]
     },
     "execution_count": 112,
     "metadata": {},
     "output_type": "execute_result"
    }
   ],
   "source": [
    "u[u>5]"
   ]
  },
  {
   "cell_type": "code",
   "execution_count": 113,
   "id": "c0d24b91-0cf4-4349-91bf-15d681cead25",
   "metadata": {},
   "outputs": [
    {
     "data": {
      "text/plain": [
       "array([[10, 10, 10, 10, 10],\n",
       "       [10, 10, 10, 10, 10],\n",
       "       [10, -1, -1, -1, -1],\n",
       "       [-1, -1, -1, -1, -1],\n",
       "       [-1, -1, -1, -1, -1]])"
      ]
     },
     "execution_count": 113,
     "metadata": {},
     "output_type": "execute_result"
    }
   ],
   "source": [
    "np.where(u>10,-1,10)"
   ]
  },
  {
   "cell_type": "code",
   "execution_count": 114,
   "id": "a83a26c4-5a73-49be-af43-3dc4679a2020",
   "metadata": {},
   "outputs": [
    {
     "data": {
      "text/plain": [
       "array([[0],\n",
       "       [1],\n",
       "       [2],\n",
       "       [3],\n",
       "       [4],\n",
       "       [5],\n",
       "       [6],\n",
       "       [7],\n",
       "       [8],\n",
       "       [9]])"
      ]
     },
     "execution_count": 114,
     "metadata": {},
     "output_type": "execute_result"
    }
   ],
   "source": [
    "np.argwhere((arr>5))"
   ]
  },
  {
   "cell_type": "code",
   "execution_count": 115,
   "id": "765807ae-cf4c-4972-8351-487cafa17fc6",
   "metadata": {},
   "outputs": [
    {
     "data": {
      "text/plain": [
       "array([[ 4, 45, 42, 36,  4],\n",
       "       [41, 42, 36, 10, 25],\n",
       "       [12, 19,  4, 29, 40],\n",
       "       [30, 36,  9, 40, 43],\n",
       "       [18,  8, 32, 45,  2]])"
      ]
     },
     "execution_count": 115,
     "metadata": {},
     "output_type": "execute_result"
    }
   ],
   "source": [
    "# Sorting of an Array\n",
    "f=np.random.choice(50,(5,5))\n",
    "f"
   ]
  },
  {
   "cell_type": "code",
   "execution_count": 116,
   "id": "5061256d-bbc0-4a18-bcd0-8e66ebac90d9",
   "metadata": {},
   "outputs": [
    {
     "data": {
      "text/plain": [
       "array([[ 4,  4, 36, 42, 45],\n",
       "       [10, 25, 36, 41, 42],\n",
       "       [ 4, 12, 19, 29, 40],\n",
       "       [ 9, 30, 36, 40, 43],\n",
       "       [ 2,  8, 18, 32, 45]])"
      ]
     },
     "execution_count": 116,
     "metadata": {},
     "output_type": "execute_result"
    }
   ],
   "source": [
    "np.sort(f)"
   ]
  },
  {
   "cell_type": "code",
   "execution_count": 117,
   "id": "44f9bc1f-aba9-4e24-bb13-6a58136c2117",
   "metadata": {},
   "outputs": [
    {
     "data": {
      "text/plain": [
       "array([[ 4,  8,  4, 10,  2],\n",
       "       [12, 19,  9, 29,  4],\n",
       "       [18, 36, 32, 36, 25],\n",
       "       [30, 42, 36, 40, 40],\n",
       "       [41, 45, 42, 45, 43]])"
      ]
     },
     "execution_count": 117,
     "metadata": {},
     "output_type": "execute_result"
    }
   ],
   "source": [
    "np.sort(f,axis=0)"
   ]
  },
  {
   "cell_type": "code",
   "execution_count": 118,
   "id": "c8bfee49-a860-4586-955d-a28e67ffec80",
   "metadata": {},
   "outputs": [
    {
     "data": {
      "text/plain": [
       "array([[ 4,  4, 36, 42, 45],\n",
       "       [10, 25, 36, 41, 42],\n",
       "       [ 4, 12, 19, 29, 40],\n",
       "       [ 9, 30, 36, 40, 43],\n",
       "       [ 2,  8, 18, 32, 45]])"
      ]
     },
     "execution_count": 118,
     "metadata": {},
     "output_type": "execute_result"
    }
   ],
   "source": [
    "np.sort(f,axis=1)"
   ]
  },
  {
   "cell_type": "code",
   "execution_count": 119,
   "id": "de259f0c-f75e-4174-ae97-2785b54dad10",
   "metadata": {},
   "outputs": [
    {
     "data": {
      "text/plain": [
       "array([[ 4,  8,  4, 10,  2],\n",
       "       [12, 19,  9, 29,  4],\n",
       "       [18, 36, 32, 36, 25],\n",
       "       [30, 42, 36, 40, 40],\n",
       "       [41, 45, 42, 45, 43]])"
      ]
     },
     "execution_count": 119,
     "metadata": {},
     "output_type": "execute_result"
    }
   ],
   "source": [
    "f.sort(axis=0)\n",
    "f"
   ]
  },
  {
   "cell_type": "code",
   "execution_count": 120,
   "id": "85bab85d-fe1d-4723-be6c-ee45669ac4eb",
   "metadata": {},
   "outputs": [
    {
     "data": {
      "text/plain": [
       "array([[ 2,  4,  4,  8, 10],\n",
       "       [ 4,  9, 12, 19, 29],\n",
       "       [18, 25, 32, 36, 36],\n",
       "       [30, 36, 40, 40, 42],\n",
       "       [41, 42, 43, 45, 45]])"
      ]
     },
     "execution_count": 120,
     "metadata": {},
     "output_type": "execute_result"
    }
   ],
   "source": [
    "f.sort(axis=1)\n",
    "f"
   ]
  },
  {
   "cell_type": "code",
   "execution_count": 121,
   "id": "6634440e-ba47-4d5c-8e0c-e97dc48ce4f1",
   "metadata": {},
   "outputs": [
    {
     "data": {
      "text/plain": [
       "array([(b'Karan', 21), (b'Arpit', 25), (b'Ashish', 17), (b'Sam', 27),\n",
       "       (b'Robin', 22)], dtype=[('name', 'S10'), ('age', '<i8')])"
      ]
     },
     "execution_count": 121,
     "metadata": {},
     "output_type": "execute_result"
    }
   ],
   "source": [
    "# Order parameter in sort function\n",
    "dt = np.dtype([('name', 'S10'),('age', int)]) \n",
    "arr = np.array([(\"Karan\",21),(\"Arpit\",25),(\"Ashish\", 17), (\"Sam\",27),(\"Robin\",22)], dtype = dt)  \n",
    "arr "
   ]
  },
  {
   "cell_type": "code",
   "execution_count": 122,
   "id": "85708dd5-e285-4c68-b8f4-3dccabbfc489",
   "metadata": {},
   "outputs": [
    {
     "data": {
      "text/plain": [
       "array([(b'Arpit', 25), (b'Ashish', 17), (b'Karan', 21), (b'Robin', 22),\n",
       "       (b'Sam', 27)], dtype=[('name', 'S10'), ('age', '<i8')])"
      ]
     },
     "execution_count": 122,
     "metadata": {},
     "output_type": "execute_result"
    }
   ],
   "source": [
    "np.sort(arr,order=\"name\")"
   ]
  },
  {
   "cell_type": "code",
   "execution_count": 123,
   "id": "68501ab3-f436-49c2-99b9-ac56312ab31f",
   "metadata": {},
   "outputs": [
    {
     "data": {
      "text/plain": [
       "array([(b'Ashish', 17), (b'Karan', 21), (b'Robin', 22), (b'Arpit', 25),\n",
       "       (b'Sam', 27)], dtype=[('name', 'S10'), ('age', '<i8')])"
      ]
     },
     "execution_count": 123,
     "metadata": {},
     "output_type": "execute_result"
    }
   ],
   "source": [
    "np.sort(arr,order=\"age\")"
   ]
  },
  {
   "cell_type": "code",
   "execution_count": 124,
   "id": "8cf7fa48-79af-4675-8357-8c6d5f5d4b05",
   "metadata": {},
   "outputs": [
    {
     "data": {
      "text/plain": [
       "array([[44, 25, 49, 49, 27],\n",
       "       [44, 39, 33, 33, 56],\n",
       "       [33, 14, 57, 53, 10],\n",
       "       [31, 20, 23, 45, 11]])"
      ]
     },
     "execution_count": 124,
     "metadata": {},
     "output_type": "execute_result"
    }
   ],
   "source": [
    "# compute the indices that would sort an array along a specified axis\n",
    "ass=np.random.randint(10,60,(4,5))\n",
    "ass"
   ]
  },
  {
   "cell_type": "code",
   "execution_count": 125,
   "id": "074877f6-a7cb-4f5f-bc90-8511a53e1d4f",
   "metadata": {},
   "outputs": [
    {
     "data": {
      "text/plain": [
       "array([[1, 4, 0, 2, 3],\n",
       "       [2, 3, 1, 0, 4],\n",
       "       [4, 1, 0, 3, 2],\n",
       "       [4, 1, 2, 0, 3]])"
      ]
     },
     "execution_count": 125,
     "metadata": {},
     "output_type": "execute_result"
    }
   ],
   "source": [
    "np.argsort(ass)"
   ]
  },
  {
   "cell_type": "code",
   "execution_count": 126,
   "id": "80ee1381-a8bd-4f2d-948b-da37c5ae0721",
   "metadata": {},
   "outputs": [
    {
     "data": {
      "text/plain": [
       "array([[3, 2, 3, 1, 2],\n",
       "       [2, 3, 1, 3, 3],\n",
       "       [0, 0, 0, 0, 0],\n",
       "       [1, 1, 2, 2, 1]])"
      ]
     },
     "execution_count": 126,
     "metadata": {},
     "output_type": "execute_result"
    }
   ],
   "source": [
    "np.argsort(ass,axis=0)"
   ]
  },
  {
   "cell_type": "code",
   "execution_count": 127,
   "id": "43f8eb3a-907d-4d66-87ae-26e614f06614",
   "metadata": {},
   "outputs": [
    {
     "data": {
      "text/plain": [
       "array([[1, 4, 0, 2, 3],\n",
       "       [2, 3, 1, 0, 4],\n",
       "       [4, 1, 0, 3, 2],\n",
       "       [4, 1, 2, 0, 3]])"
      ]
     },
     "execution_count": 127,
     "metadata": {},
     "output_type": "execute_result"
    }
   ],
   "source": [
    "np.argsort(ass,axis=1)"
   ]
  },
  {
   "cell_type": "code",
   "execution_count": 128,
   "id": "7123148f-fc8b-4e9f-96dd-9c01825dc535",
   "metadata": {},
   "outputs": [
    {
     "data": {
      "text/plain": [
       "array([14, 19, 11, 16, 17,  1,  4, 15,  7,  8, 10,  6,  0,  5, 18,  3,  2,\n",
       "       13,  9, 12])"
      ]
     },
     "execution_count": 128,
     "metadata": {},
     "output_type": "execute_result"
    }
   ],
   "source": [
    "np.argsort(ass,axis=None)"
   ]
  },
  {
   "cell_type": "markdown",
   "id": "f2edc205-b50f-41c6-ab41-b96df7c00624",
   "metadata": {
    "tags": []
   },
   "source": [
    "## Numpy Array Manipulation\n",
    "    Transpose an array\n",
    "    numpy.swapaxes() function interchange two axes of an array\n",
    "        Syntax : numpy.swapaxes(arr, axis1, axis2)\n",
    "    3D Array\n",
    "    Change the shape of an array\n",
    "    flatten an array\n",
    "    append elements to an array\n",
    "    insert elements into an array\n",
    "    delete elements from an array\n",
    "    copy an array"
   ]
  },
  {
   "cell_type": "code",
   "execution_count": 129,
   "id": "5d988ec1-4004-4d1d-adda-eff1d0ec4512",
   "metadata": {},
   "outputs": [
    {
     "data": {
      "text/plain": [
       "array([[ 0,  1,  2,  3],\n",
       "       [ 4,  5,  6,  7],\n",
       "       [ 8,  9, 10, 11],\n",
       "       [12, 13, 14, 15]])"
      ]
     },
     "execution_count": 129,
     "metadata": {},
     "output_type": "execute_result"
    }
   ],
   "source": [
    "g=np.arange(16).reshape(4,4)\n",
    "g"
   ]
  },
  {
   "cell_type": "code",
   "execution_count": 130,
   "id": "171a2a5f-7186-4dd6-8586-04a6d5740922",
   "metadata": {},
   "outputs": [
    {
     "data": {
      "text/plain": [
       "array([[ 0,  4,  8, 12],\n",
       "       [ 1,  5,  9, 13],\n",
       "       [ 2,  6, 10, 14],\n",
       "       [ 3,  7, 11, 15]])"
      ]
     },
     "execution_count": 130,
     "metadata": {},
     "output_type": "execute_result"
    }
   ],
   "source": [
    "g.T"
   ]
  },
  {
   "cell_type": "code",
   "execution_count": 131,
   "id": "80d97ba4-aaed-4d7a-a875-0d2dc896c48c",
   "metadata": {},
   "outputs": [
    {
     "data": {
      "text/plain": [
       "array([[ 0,  4,  8, 12],\n",
       "       [ 1,  5,  9, 13],\n",
       "       [ 2,  6, 10, 14],\n",
       "       [ 3,  7, 11, 15]])"
      ]
     },
     "execution_count": 131,
     "metadata": {},
     "output_type": "execute_result"
    }
   ],
   "source": [
    "np.transpose(g)"
   ]
  },
  {
   "cell_type": "code",
   "execution_count": 132,
   "id": "8c8e70c2-24b8-4c69-bc97-85955593d441",
   "metadata": {},
   "outputs": [
    {
     "data": {
      "text/plain": [
       "array([[ 0,  4,  8, 12],\n",
       "       [ 1,  5,  9, 13],\n",
       "       [ 2,  6, 10, 14],\n",
       "       [ 3,  7, 11, 15]])"
      ]
     },
     "execution_count": 132,
     "metadata": {},
     "output_type": "execute_result"
    }
   ],
   "source": [
    "g.transpose()"
   ]
  },
  {
   "cell_type": "code",
   "execution_count": 133,
   "id": "d0d24786-0edc-41d1-a923-c5d241a70f58",
   "metadata": {},
   "outputs": [
    {
     "data": {
      "text/plain": [
       "array([[ 0,  4,  8, 12],\n",
       "       [ 1,  5,  9, 13],\n",
       "       [ 2,  6, 10, 14],\n",
       "       [ 3,  7, 11, 15]])"
      ]
     },
     "execution_count": 133,
     "metadata": {},
     "output_type": "execute_result"
    }
   ],
   "source": [
    "np.swapaxes(g, 1,0)"
   ]
  },
  {
   "cell_type": "code",
   "execution_count": 134,
   "id": "e3df7c2c-64d8-4e21-8414-e0f0302c5727",
   "metadata": {},
   "outputs": [
    {
     "data": {
      "text/plain": [
       "array([[ 0,  1,  2,  3],\n",
       "       [ 4,  5,  6,  7],\n",
       "       [ 8,  9, 10, 11],\n",
       "       [12, 13, 14, 15]])"
      ]
     },
     "execution_count": 134,
     "metadata": {},
     "output_type": "execute_result"
    }
   ],
   "source": [
    "g"
   ]
  },
  {
   "cell_type": "code",
   "execution_count": 135,
   "id": "e4ca8da3-0ec7-4cd5-9385-4ade424acfd4",
   "metadata": {},
   "outputs": [
    {
     "data": {
      "text/plain": [
       "array([[[ 0,  1,  2,  3],\n",
       "        [ 4,  5,  6,  7]],\n",
       "\n",
       "       [[ 8,  9, 10, 11],\n",
       "        [12, 13, 14, 15]]])"
      ]
     },
     "execution_count": 135,
     "metadata": {},
     "output_type": "execute_result"
    }
   ],
   "source": [
    "arr1 = np.arange(16).reshape((2,2,4))\n",
    "arr1"
   ]
  },
  {
   "cell_type": "code",
   "execution_count": 136,
   "id": "95fc49a8-edd5-43be-bcd3-82835e2a4291",
   "metadata": {},
   "outputs": [
    {
     "data": {
      "text/plain": [
       "array([[[ 0,  1,  2,  3],\n",
       "        [ 8,  9, 10, 11]],\n",
       "\n",
       "       [[ 4,  5,  6,  7],\n",
       "        [12, 13, 14, 15]]])"
      ]
     },
     "execution_count": 136,
     "metadata": {},
     "output_type": "execute_result"
    }
   ],
   "source": [
    "np.swapaxes(arr1, 0, 1)"
   ]
  },
  {
   "cell_type": "code",
   "execution_count": 137,
   "id": "e43b44d4-487b-4bc4-a630-1ea8194df16e",
   "metadata": {},
   "outputs": [
    {
     "data": {
      "text/plain": [
       "array([ 0,  1,  2,  3,  4,  5,  6,  7,  8,  9, 10, 11])"
      ]
     },
     "execution_count": 137,
     "metadata": {},
     "output_type": "execute_result"
    }
   ],
   "source": [
    "# Change the shape of an array\n",
    "xx=np.arange(12)\n",
    "xx"
   ]
  },
  {
   "cell_type": "code",
   "execution_count": 138,
   "id": "3f4d91b4-c209-4ad1-bf49-9a8c86598a17",
   "metadata": {},
   "outputs": [
    {
     "data": {
      "text/plain": [
       "array([[ 0,  1],\n",
       "       [ 2,  3],\n",
       "       [ 4,  5],\n",
       "       [ 6,  7],\n",
       "       [ 8,  9],\n",
       "       [10, 11]])"
      ]
     },
     "execution_count": 138,
     "metadata": {},
     "output_type": "execute_result"
    }
   ],
   "source": [
    "xx.reshape(6,2)"
   ]
  },
  {
   "cell_type": "code",
   "execution_count": 139,
   "id": "a783b601-178e-4feb-9f81-76c19f7d846c",
   "metadata": {},
   "outputs": [
    {
     "data": {
      "text/plain": [
       "array([[ 0,  1,  2,  3],\n",
       "       [ 4,  5,  6,  7],\n",
       "       [ 8,  9, 10, 11]])"
      ]
     },
     "execution_count": 139,
     "metadata": {},
     "output_type": "execute_result"
    }
   ],
   "source": [
    "xx.reshape(3,4)"
   ]
  },
  {
   "cell_type": "code",
   "execution_count": 140,
   "id": "4015ec93-628b-4d32-9e77-3f9250bf075c",
   "metadata": {},
   "outputs": [
    {
     "data": {
      "text/plain": [
       "array([ 0,  1,  2,  3,  4,  5,  6,  7,  8,  9, 10, 11, 12, 13, 14, 15])"
      ]
     },
     "execution_count": 140,
     "metadata": {},
     "output_type": "execute_result"
    }
   ],
   "source": [
    "# flatten an array\n",
    "# return a copy\n",
    "g.flatten()"
   ]
  },
  {
   "cell_type": "code",
   "execution_count": 141,
   "id": "f8043917-042c-4610-95b6-07ef9342531d",
   "metadata": {},
   "outputs": [
    {
     "data": {
      "text/plain": [
       "array([(b'Karan', 21), (b'Arpit', 25), (b'Ashish', 17), (b'Sam', 27),\n",
       "       (b'Robin', 22)], dtype=[('name', 'S10'), ('age', '<i8')])"
      ]
     },
     "execution_count": 141,
     "metadata": {},
     "output_type": "execute_result"
    }
   ],
   "source": [
    "# return a view\n",
    "# change any element in the view will change the initial array\n",
    "arr.ravel()   "
   ]
  },
  {
   "cell_type": "code",
   "execution_count": 142,
   "id": "cc56c381-bff1-42bd-8ba8-fb15447ec638",
   "metadata": {},
   "outputs": [
    {
     "data": {
      "text/plain": [
       "array([ 0,  1,  2,  3,  4,  5,  6,  7,  8,  9, 10, 11, 12, 13, 14, 15, 22])"
      ]
     },
     "execution_count": 142,
     "metadata": {},
     "output_type": "execute_result"
    }
   ],
   "source": [
    "# append elements to an array\n",
    "np.append(g,22)"
   ]
  },
  {
   "cell_type": "code",
   "execution_count": 143,
   "id": "57408d64-75a5-4fa3-b8d9-3bbd734bdb37",
   "metadata": {},
   "outputs": [
    {
     "data": {
      "text/plain": [
       "array([ 0,  1,  2,  3,  4,  5,  6,  7,  8,  9, 10, 11, 12, 13, 14, 15,  5,\n",
       "        6,  2,  3,  2])"
      ]
     },
     "execution_count": 143,
     "metadata": {},
     "output_type": "execute_result"
    }
   ],
   "source": [
    "np.append(g,[5,6,2,3,2])"
   ]
  },
  {
   "cell_type": "markdown",
   "id": "58acd1d8-e360-47d6-8d43-a5fc042cd5c7",
   "metadata": {},
   "source": [
    "## Combine & Split an Array\n",
    "    concatenate\n",
    "    vstack\n",
    "    hstack\n",
    "    vsplit\n",
    "    hsplit"
   ]
  },
  {
   "cell_type": "code",
   "execution_count": 145,
   "id": "e807ff69-38bf-454d-8c15-6b1b6973b087",
   "metadata": {},
   "outputs": [],
   "source": [
    "arr1 = np.array([[1,2,3,4], [1,2,3,4]])\n",
    "arr2 = np.array([[5,6,7,8], [5,6,7,8]])"
   ]
  },
  {
   "cell_type": "code",
   "execution_count": 146,
   "id": "d8ceffab-4459-4192-a34e-87c18cb71d1f",
   "metadata": {},
   "outputs": [
    {
     "data": {
      "text/plain": [
       "array([[1, 2, 3, 4],\n",
       "       [1, 2, 3, 4],\n",
       "       [5, 6, 7, 8],\n",
       "       [5, 6, 7, 8]])"
      ]
     },
     "execution_count": 146,
     "metadata": {},
     "output_type": "execute_result"
    }
   ],
   "source": [
    "np.concatenate((arr1, arr2), axis=0)"
   ]
  },
  {
   "cell_type": "code",
   "execution_count": 147,
   "id": "21f85327-948e-4fe7-b0f2-fc2902b715d8",
   "metadata": {},
   "outputs": [
    {
     "data": {
      "text/plain": [
       "array([[1, 2, 3, 4, 5, 6, 7, 8],\n",
       "       [1, 2, 3, 4, 5, 6, 7, 8]])"
      ]
     },
     "execution_count": 147,
     "metadata": {},
     "output_type": "execute_result"
    }
   ],
   "source": [
    "np.concatenate((arr1, arr2), axis=1)"
   ]
  },
  {
   "cell_type": "code",
   "execution_count": 148,
   "id": "ae8e5a92-efc2-4dec-9c0d-69924e536cc0",
   "metadata": {},
   "outputs": [
    {
     "data": {
      "text/plain": [
       "array([[1, 2, 3, 4],\n",
       "       [1, 2, 3, 4],\n",
       "       [5, 6, 7, 8],\n",
       "       [5, 6, 7, 8]])"
      ]
     },
     "execution_count": 148,
     "metadata": {},
     "output_type": "execute_result"
    }
   ],
   "source": [
    "np.vstack((arr1, arr2))"
   ]
  },
  {
   "cell_type": "code",
   "execution_count": 149,
   "id": "543ede95-d9d5-4669-bafb-8ba1e23726fe",
   "metadata": {},
   "outputs": [
    {
     "data": {
      "text/plain": [
       "array([[1, 2, 3, 4, 5, 6, 7, 8],\n",
       "       [1, 2, 3, 4, 5, 6, 7, 8]])"
      ]
     },
     "execution_count": 149,
     "metadata": {},
     "output_type": "execute_result"
    }
   ],
   "source": [
    "np.hstack((arr1, arr2))"
   ]
  },
  {
   "cell_type": "code",
   "execution_count": 151,
   "id": "b3d69887-5776-4060-84df-5d7875276134",
   "metadata": {},
   "outputs": [
    {
     "data": {
      "text/plain": [
       "[array([[1, 2, 3, 4]]), array([[1, 2, 3, 4]])]"
      ]
     },
     "execution_count": 151,
     "metadata": {},
     "output_type": "execute_result"
    }
   ],
   "source": [
    "np.vsplit(arr1, 2)"
   ]
  },
  {
   "cell_type": "code",
   "execution_count": 152,
   "id": "c4566f3e-6beb-47c8-bfb4-085d6ef2558b",
   "metadata": {},
   "outputs": [
    {
     "data": {
      "text/plain": [
       "[array([[5, 6],\n",
       "        [5, 6]]),\n",
       " array([[7, 8],\n",
       "        [7, 8]])]"
      ]
     },
     "execution_count": 152,
     "metadata": {},
     "output_type": "execute_result"
    }
   ],
   "source": [
    "np.hsplit(arr2, 2)"
   ]
  },
  {
   "cell_type": "markdown",
   "id": "8b75285c-c0ef-4a52-9bc0-55671ca8377b",
   "metadata": {
    "tags": []
   },
   "source": [
    "# Numpy Set Operations\n",
    "    unique\n",
    "    counts\n",
    "    intersection1d\n",
    "    union1d\n",
    "    in1d\n",
    "    isin\n",
    "    setdiff1d\n",
    "    setxor1d    "
   ]
  },
  {
   "cell_type": "code",
   "execution_count": 153,
   "id": "3e9c9d92-2d67-4cfb-ae21-8d282457a219",
   "metadata": {},
   "outputs": [
    {
     "name": "stdout",
     "output_type": "stream",
     "text": [
      "[1 2 3 4 5 6]\n"
     ]
    }
   ],
   "source": [
    "arr = np.array([1,1,2,2,3,3,4,5,6])\n",
    "print(np.unique(arr))"
   ]
  },
  {
   "cell_type": "code",
   "execution_count": 155,
   "id": "896e04a9-8673-4901-a06c-ac65ec0c04e5",
   "metadata": {},
   "outputs": [
    {
     "name": "stdout",
     "output_type": "stream",
     "text": [
      "[1 2 3 4 5 6]\n",
      "[2 2 2 1 1 1]\n"
     ]
    }
   ],
   "source": [
    "# return the number of times each unique item appears\n",
    "arr = np.array([1,1,2,2,3,3,4,5,6])\n",
    "uniques, counts = np.unique(arr, return_counts=True)\n",
    "print(uniques)\n",
    "print(counts)"
   ]
  },
  {
   "cell_type": "code",
   "execution_count": 156,
   "id": "6c74ef01-5cc8-44c7-b9d5-af2be93aff46",
   "metadata": {},
   "outputs": [
    {
     "data": {
      "text/plain": [
       "array([], dtype=int64)"
      ]
     },
     "execution_count": 156,
     "metadata": {},
     "output_type": "execute_result"
    }
   ],
   "source": [
    "np.intersect1d(arr1, arr2)"
   ]
  },
  {
   "cell_type": "code",
   "execution_count": 157,
   "id": "1a1a8c52-f49d-47f4-aa45-b87aa7051034",
   "metadata": {},
   "outputs": [
    {
     "data": {
      "text/plain": [
       "array([1, 2, 3, 4, 5, 6, 7, 8])"
      ]
     },
     "execution_count": 157,
     "metadata": {},
     "output_type": "execute_result"
    }
   ],
   "source": [
    "np.union1d(arr1, arr2)"
   ]
  },
  {
   "cell_type": "code",
   "execution_count": 158,
   "id": "9a7ccb8d-5152-4c35-98ca-aed2e33a9304",
   "metadata": {},
   "outputs": [
    {
     "data": {
      "text/plain": [
       "array([False, False, False, False, False, False, False, False])"
      ]
     },
     "execution_count": 158,
     "metadata": {},
     "output_type": "execute_result"
    }
   ],
   "source": [
    "np.in1d(arr1, arr2)"
   ]
  },
  {
   "cell_type": "code",
   "execution_count": 159,
   "id": "07244c44-0382-4bc9-8972-2b595d79c6d9",
   "metadata": {},
   "outputs": [
    {
     "data": {
      "text/plain": [
       "array([[False, False, False, False],\n",
       "       [False, False, False, False]])"
      ]
     },
     "execution_count": 159,
     "metadata": {},
     "output_type": "execute_result"
    }
   ],
   "source": [
    "np.isin(arr1, arr2)"
   ]
  },
  {
   "cell_type": "code",
   "execution_count": 160,
   "id": "3c3f8612-92bb-4c19-8dc4-5cb4632692cf",
   "metadata": {},
   "outputs": [
    {
     "data": {
      "text/plain": [
       "array([1, 2, 3, 4])"
      ]
     },
     "execution_count": 160,
     "metadata": {},
     "output_type": "execute_result"
    }
   ],
   "source": [
    "np.setdiff1d(arr1, arr2)"
   ]
  },
  {
   "cell_type": "code",
   "execution_count": 161,
   "id": "526dd3f9-4f83-41a8-81c6-dcb6b1334f45",
   "metadata": {},
   "outputs": [
    {
     "data": {
      "text/plain": [
       "array([1, 2, 3, 4, 5, 6, 7, 8])"
      ]
     },
     "execution_count": 161,
     "metadata": {},
     "output_type": "execute_result"
    }
   ],
   "source": [
    "np.setxor1d(arr1, arr2)"
   ]
  },
  {
   "cell_type": "code",
   "execution_count": null,
   "id": "25bd8009-1668-4d9d-a7be-b0fcc3626d5c",
   "metadata": {},
   "outputs": [],
   "source": [
    "# Linear Algebra\n",
    "    dot\n",
    "    qr\n",
    "    svd\n",
    "    eigvals\n",
    "    eig\n",
    "    "
   ]
  },
  {
   "cell_type": "code",
   "execution_count": 167,
   "id": "de0df038-712a-4fe7-ab5f-332cf1a6d6ec",
   "metadata": {},
   "outputs": [],
   "source": [
    "array_1=np.random.choice(10,(5,5))\n",
    "array_2=np.random.choice(20,(5,5))"
   ]
  },
  {
   "cell_type": "code",
   "execution_count": 168,
   "id": "8a7501d2-ac56-4cb4-8e03-85484644e6a0",
   "metadata": {},
   "outputs": [
    {
     "data": {
      "text/plain": [
       "array([[5, 2, 9, 5, 8],\n",
       "       [9, 2, 3, 5, 8],\n",
       "       [7, 8, 8, 0, 8],\n",
       "       [3, 4, 9, 9, 4],\n",
       "       [6, 8, 1, 7, 0]])"
      ]
     },
     "execution_count": 168,
     "metadata": {},
     "output_type": "execute_result"
    }
   ],
   "source": [
    "array_1"
   ]
  },
  {
   "cell_type": "code",
   "execution_count": 169,
   "id": "4156a9f8-0c1a-494e-8236-337a929943c9",
   "metadata": {},
   "outputs": [
    {
     "data": {
      "text/plain": [
       "array([[ 6, 11,  8, 18, 18],\n",
       "       [ 6,  4,  4, 18, 17],\n",
       "       [ 9,  6,  7, 13, 10],\n",
       "       [ 0, 13, 13, 12,  0],\n",
       "       [ 9,  2, 12, 15,  0]])"
      ]
     },
     "execution_count": 169,
     "metadata": {},
     "output_type": "execute_result"
    }
   ],
   "source": [
    "array_2"
   ]
  },
  {
   "cell_type": "code",
   "execution_count": 170,
   "id": "7fe47888-9f60-41f0-b04d-55daee08464a",
   "metadata": {},
   "outputs": [
    {
     "data": {
      "text/plain": [
       "array([[195, 198, 272, 423, 214],\n",
       "       [165, 206, 262, 417, 226],\n",
       "       [234, 173, 240, 494, 342],\n",
       "       [159, 228, 268, 411, 212],\n",
       "       [ 93, 195, 178, 349, 254]])"
      ]
     },
     "execution_count": 170,
     "metadata": {},
     "output_type": "execute_result"
    }
   ],
   "source": [
    "# matrix product\n",
    "array_1.dot(array_2)"
   ]
  },
  {
   "cell_type": "code",
   "execution_count": 171,
   "id": "41959e63-3ad8-41ad-8608-ae5d18c1458d",
   "metadata": {},
   "outputs": [
    {
     "data": {
      "text/plain": [
       "array([[195, 198, 272, 423, 214],\n",
       "       [165, 206, 262, 417, 226],\n",
       "       [234, 173, 240, 494, 342],\n",
       "       [159, 228, 268, 411, 212],\n",
       "       [ 93, 195, 178, 349, 254]])"
      ]
     },
     "execution_count": 171,
     "metadata": {},
     "output_type": "execute_result"
    }
   ],
   "source": [
    "np.dot(array_1,array_2)"
   ]
  },
  {
   "cell_type": "code",
   "execution_count": 174,
   "id": "086a5a5e-bf5e-4877-8ee6-932d45a62d41",
   "metadata": {},
   "outputs": [
    {
     "name": "stdout",
     "output_type": "stream",
     "text": [
      "[[-0.67879111  0.38978768  0.2978779  -0.54530253 -0.0349587 ]\n",
      " [-0.19143197 -0.31434046  0.59622462  0.3780854  -0.60507149]\n",
      " [-0.70491702 -0.19992246 -0.45341547  0.47552642  0.17723444]\n",
      " [-0.07054364 -0.79763735 -0.16803707 -0.56873684 -0.08426267]\n",
      " [-0.02668388 -0.27029854  0.56741777  0.10054656  0.77081394]]\n",
      "[[-1.0850121  -0.70512694 -0.57820077 -1.20468263 -0.60821038]\n",
      " [ 0.         -1.11869272 -0.32280224 -0.7897626  -0.63940622]\n",
      " [ 0.          0.          0.77620756  0.07291113  0.0066737 ]\n",
      " [ 0.          0.          0.         -0.44746283  0.21675671]\n",
      " [ 0.          0.          0.          0.          0.37913738]]\n"
     ]
    }
   ],
   "source": [
    "# QR factorization\n",
    "arr = np.random.rand(5,5)\n",
    "q,r=np.linalg.qr(arr)\n",
    "print(q)\n",
    "print(r)"
   ]
  },
  {
   "cell_type": "code",
   "execution_count": 175,
   "id": "de99f646-7ba4-4500-a270-5ad91a552292",
   "metadata": {},
   "outputs": [],
   "source": [
    "# singular value decomposition (SVD)\n",
    "arr = np.random.rand(5,5)\n",
    "u,s,v=np.linalg.svd(arr)"
   ]
  },
  {
   "cell_type": "code",
   "execution_count": 176,
   "id": "6b277c5f-abdf-4ba3-8846-0210d22469a3",
   "metadata": {},
   "outputs": [
    {
     "data": {
      "text/plain": [
       "array([[-0.36539548,  0.02499591,  0.87050916, -0.31559495, -0.09205958],\n",
       "       [-0.31444237, -0.75921457, -0.10146416, -0.13471713,  0.54431199],\n",
       "       [-0.50739866,  0.59646771, -0.32094594, -0.36401146,  0.38892446],\n",
       "       [-0.5297898 , -0.23561329, -0.33920617, -0.12807611, -0.72961964],\n",
       "       [-0.47904228,  0.10807907,  0.11769322,  0.85635465,  0.10790007]])"
      ]
     },
     "execution_count": 176,
     "metadata": {},
     "output_type": "execute_result"
    }
   ],
   "source": [
    "u"
   ]
  },
  {
   "cell_type": "code",
   "execution_count": 177,
   "id": "f419b556-dd6d-45b3-8dae-7d682ca9438f",
   "metadata": {},
   "outputs": [
    {
     "data": {
      "text/plain": [
       "array([2.59739892, 0.74062998, 0.59284237, 0.43288619, 0.27682835])"
      ]
     },
     "execution_count": 177,
     "metadata": {},
     "output_type": "execute_result"
    }
   ],
   "source": [
    "s"
   ]
  },
  {
   "cell_type": "code",
   "execution_count": 178,
   "id": "d3dc69f0-30a7-4f41-8dc5-d42964006778",
   "metadata": {},
   "outputs": [
    {
     "data": {
      "text/plain": [
       "array([[-0.3719445 , -0.28744768, -0.50275948, -0.54474353, -0.47908091],\n",
       "       [ 0.64715421, -0.07346356,  0.38968529, -0.63458729, -0.14573566],\n",
       "       [ 0.02745512, -0.56951785,  0.36709427,  0.45237385, -0.57921959],\n",
       "       [-0.06028103, -0.75463169, -0.00228574, -0.12288897,  0.64170888],\n",
       "       [ 0.66216398, -0.13474928, -0.67868612,  0.2842704 , -0.04423775]])"
      ]
     },
     "execution_count": 178,
     "metadata": {},
     "output_type": "execute_result"
    }
   ],
   "source": [
    "v"
   ]
  },
  {
   "cell_type": "code",
   "execution_count": 179,
   "id": "daddb132-31fb-4ad1-af37-0b04b8f2880a",
   "metadata": {},
   "outputs": [
    {
     "data": {
      "text/plain": [
       "array([ 2.59619053+0.j        ,  0.43196331+0.34604932j,\n",
       "        0.43196331-0.34604932j, -0.28201144+0.30382194j,\n",
       "       -0.28201144-0.30382194j])"
      ]
     },
     "execution_count": 179,
     "metadata": {},
     "output_type": "execute_result"
    }
   ],
   "source": [
    "# compute eigen values\n",
    "np.linalg.eigvals(arr)"
   ]
  },
  {
   "cell_type": "code",
   "execution_count": 181,
   "id": "c39f1d48-591f-4192-9efa-0f447c86c09b",
   "metadata": {},
   "outputs": [],
   "source": [
    "# eigen value decomposition\n",
    "w,v=np.linalg.eig(arr)"
   ]
  },
  {
   "cell_type": "code",
   "execution_count": 182,
   "id": "c94b0e6a-765e-4379-b032-e81983ffff8b",
   "metadata": {},
   "outputs": [
    {
     "data": {
      "text/plain": [
       "array([ 2.59619053+0.j        ,  0.43196331+0.34604932j,\n",
       "        0.43196331-0.34604932j, -0.28201144+0.30382194j,\n",
       "       -0.28201144-0.30382194j])"
      ]
     },
     "execution_count": 182,
     "metadata": {},
     "output_type": "execute_result"
    }
   ],
   "source": [
    "w"
   ]
  },
  {
   "cell_type": "code",
   "execution_count": 183,
   "id": "a4bad180-1313-4307-b31f-60784df087b6",
   "metadata": {},
   "outputs": [
    {
     "data": {
      "text/plain": [
       "array([[-0.36343048+0.j        ,  0.15036895+0.32881889j,\n",
       "         0.15036895-0.32881889j,  0.58697429-0.06689274j,\n",
       "         0.58697429+0.06689274j],\n",
       "       [-0.3135037 +0.j        , -0.61542039+0.j        ,\n",
       "        -0.61542039-0.j        ,  0.02969339-0.3443252j ,\n",
       "         0.02969339+0.3443252j ],\n",
       "       [-0.50965908+0.j        ,  0.21774222+0.20960804j,\n",
       "         0.21774222-0.20960804j, -0.61534896+0.j        ,\n",
       "        -0.61534896-0.j        ],\n",
       "       [-0.53255094+0.j        , -0.30431176-0.06058852j,\n",
       "        -0.30431176+0.06058852j,  0.07215868+0.34732034j,\n",
       "         0.07215868-0.34732034j],\n",
       "       [-0.47567935+0.j        ,  0.36586005-0.41115407j,\n",
       "         0.36586005+0.41115407j,  0.09451948-0.13460474j,\n",
       "         0.09451948+0.13460474j]])"
      ]
     },
     "execution_count": 183,
     "metadata": {},
     "output_type": "execute_result"
    }
   ],
   "source": [
    "v"
   ]
  },
  {
   "cell_type": "code",
   "execution_count": 184,
   "id": "4e90e61b-4014-49e8-8939-097161fff756",
   "metadata": {},
   "outputs": [
    {
     "data": {
      "text/plain": [
       "2.896094276096256"
      ]
     },
     "execution_count": 184,
     "metadata": {},
     "output_type": "execute_result"
    }
   ],
   "source": [
    "np.trace(arr)"
   ]
  },
  {
   "cell_type": "code",
   "execution_count": 185,
   "id": "232e6a86-a043-4e79-80d6-8baf87ede81c",
   "metadata": {},
   "outputs": [
    {
     "data": {
      "text/plain": [
       "0.1366669424187831"
      ]
     },
     "execution_count": 185,
     "metadata": {},
     "output_type": "execute_result"
    }
   ],
   "source": [
    "np.linalg.det(arr)"
   ]
  },
  {
   "cell_type": "code",
   "execution_count": 186,
   "id": "434fde7a-d731-4101-bc42-560f084f9691",
   "metadata": {},
   "outputs": [
    {
     "data": {
      "text/plain": [
       "array([[-0.06177609,  0.69767125,  1.55996641, -1.87311019,  0.30732977],\n",
       "       [-0.2033282 ,  0.17747433,  0.75055937,  0.98628176, -1.61613618],\n",
       "       [ 0.85027135, -1.73517796, -0.73827036,  1.55798663, -0.04658711],\n",
       "       [ 0.71452373,  1.23622348, -0.14683519, -0.6587206 , -0.03463326],\n",
       "       [-1.24115405,  0.01983663, -0.3119698 ,  0.4022269 ,  1.20431616]])"
      ]
     },
     "execution_count": 186,
     "metadata": {},
     "output_type": "execute_result"
    }
   ],
   "source": [
    "np.linalg.inv(arr)"
   ]
  },
  {
   "cell_type": "code",
   "execution_count": 187,
   "id": "64e208b6-0528-4cfd-b4b3-a6d86c75d0c1",
   "metadata": {},
   "outputs": [
    {
     "name": "stdout",
     "output_type": "stream",
     "text": [
      "[ 0.05767369 -1.73225529  1.16411529 -0.06158358  5.49309821]\n"
     ]
    }
   ],
   "source": [
    "# solve a linear system\n",
    "# solve a linear system in closed form\n",
    "y = [1,2,3,4,5]\n",
    "print(np.linalg.solve(arr, y))"
   ]
  },
  {
   "cell_type": "code",
   "execution_count": null,
   "id": "a1bec2fb-d450-44eb-ba36-dfdb25643c71",
   "metadata": {},
   "outputs": [],
   "source": []
  }
 ],
 "metadata": {
  "kernelspec": {
   "display_name": "Python 3 (ipykernel)",
   "language": "python",
   "name": "python3"
  },
  "language_info": {
   "codemirror_mode": {
    "name": "ipython",
    "version": 3
   },
   "file_extension": ".py",
   "mimetype": "text/x-python",
   "name": "python",
   "nbconvert_exporter": "python",
   "pygments_lexer": "ipython3",
   "version": "3.10.6"
  },
  "latex_envs": {
   "LaTeX_envs_menu_present": true,
   "autoclose": false,
   "autocomplete": true,
   "bibliofile": "biblio.bib",
   "cite_by": "apalike",
   "current_citInitial": 1,
   "eqLabelWithNumbers": true,
   "eqNumInitial": 1,
   "hotkeys": {
    "equation": "Ctrl-E",
    "itemize": "Ctrl-I"
   },
   "labels_anchors": false,
   "latex_user_defs": false,
   "report_style_numbering": false,
   "user_envs_cfg": false
  },
  "varInspector": {
   "cols": {
    "lenName": 16,
    "lenType": 16,
    "lenVar": 40
   },
   "kernels_config": {
    "python": {
     "delete_cmd_postfix": "",
     "delete_cmd_prefix": "del ",
     "library": "var_list.py",
     "varRefreshCmd": "print(var_dic_list())"
    },
    "r": {
     "delete_cmd_postfix": ") ",
     "delete_cmd_prefix": "rm(",
     "library": "var_list.r",
     "varRefreshCmd": "cat(var_dic_list()) "
    }
   },
   "types_to_exclude": [
    "module",
    "function",
    "builtin_function_or_method",
    "instance",
    "_Feature"
   ],
   "window_display": false
  }
 },
 "nbformat": 4,
 "nbformat_minor": 5
}
